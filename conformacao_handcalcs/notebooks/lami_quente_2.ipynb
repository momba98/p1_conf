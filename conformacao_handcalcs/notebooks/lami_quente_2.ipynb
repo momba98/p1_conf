{
 "cells": [
  {
   "cell_type": "code",
   "execution_count": 1,
   "metadata": {},
   "outputs": [],
   "source": [
    "from handcalcs import render \n",
    "import forallpeople as si\n",
    "\n",
    "si.environment('default', top_level=True)\n",
    "\n",
    "from scipy.optimize import fsolve\n",
    "\n",
    "import sympy as sp\n",
    "import numpy as np\n",
    "\n",
    "from numpy import log as ln\n",
    "from numpy import pi, arctan, sin, e\n",
    "\n",
    "from math import ceil as Arredondar\n",
    "from math import fabs as Absoluto\n",
    "from math import sqrt\n",
    "\n",
    "import pandas as pd\n"
   ]
  },
  {
   "cell_type": "code",
   "execution_count": 27,
   "metadata": {},
   "outputs": [],
   "source": [
    "#from handcalcs.install_templates import install_html\n",
    "#install_html(restore=True)"
   ]
  },
  {
   "cell_type": "markdown",
   "metadata": {},
   "source": [
    "# Enunciado\n",
    "\n",
    "Determine a potência que o motor de uma laminadora deverá fornecer na deformação:\n",
    "\n",
    "- Seção quadrada com área de 1200 mm²;\n",
    "\n",
    "- Rolos de aço, com espaçamento de 25mm (portanto, a espessura da chapa);\n",
    "\n",
    "- A rotação dos cilindros é da ordem de 40 RPM;\n",
    "\n",
    "- O diâmetro dos cilindros é 200 mm;\n",
    "\n",
    "- O rendimento do processo é de 87,5%;\n",
    "\n",
    "- Composição do material: 0,65%C, 0,80%Mn, 0,2%Cr, 0,11%Si, 0,08%S, 0,10%P; \n",
    "\n",
    "- O material é laminado a 1000°C."
   ]
  },
  {
   "cell_type": "markdown",
   "metadata": {},
   "source": [
    "### Definindo grandezas sobre a espessura: "
   ]
  },
  {
   "cell_type": "code",
   "execution_count": 2,
   "metadata": {},
   "outputs": [
    {
     "data": {
      "text/latex": [
       "\\[\n",
       "\\begin{aligned}\n",
       "b &= \\left( 1200 \\cdot \\left( mm \\right) ^{ 2 } \\right) ^{ 0.5 } \\\\&= \\left( 1200 \\cdot \\left( mm \\right) ^{ 2 } \\right) ^{ 0.5 } \\\\&= 34.641\\ \\text{mm}\\\\\n",
       "\\\\[10pt]\n",
       "h &= 34.641\\ \\text{mm}\\;\n",
       "\\\\[10pt]\n",
       "\\phi_{total_{h}} &= \\operatorname{ln} \\left( \\frac{ 25 \\cdot mm }{ b } \\right) \\\\&= \\operatorname{ln} \\left( \\frac{ 25 \\cdot mm }{ 34.641\\ \\text{mm} } \\right) \\\\&= -0.326\\\\\n",
       "\\\\[10pt]\n",
       "\\phi_{h} &= -0.326\\;\n",
       "\\end{aligned}\n",
       "\\]"
      ],
      "text/plain": [
       "<IPython.core.display.Latex object>"
      ]
     },
     "metadata": {},
     "output_type": "display_data"
    }
   ],
   "source": [
    "%%render\n",
    "#long\n",
    "\n",
    "b = (1200*mm**2)**0.5\n",
    "\n",
    "h = b\n",
    "\n",
    "phi_total_h = ln((25*mm)/(b))\n",
    "\n",
    "phi_h = phi_total_h"
   ]
  },
  {
   "cell_type": "markdown",
   "metadata": {},
   "source": [
    "Para chegar na configuração final, a espessura deverá se deformar **-32.6%**."
   ]
  },
  {
   "cell_type": "markdown",
   "metadata": {},
   "source": [
    "Organizando as espessuras de entrada e de saída da gaiola:"
   ]
  },
  {
   "cell_type": "code",
   "execution_count": 3,
   "metadata": {},
   "outputs": [
    {
     "data": {
      "text/latex": [
       "\\[\n",
       "\\begin{aligned}\n",
       "h_{i} &= 34.641\\ \\text{mm}\\;\n",
       "\\\\[10pt]\n",
       "h_{f} &= h \\cdot \\left( e \\right) ^{ \\phi_{h} } = 34.641\\ \\text{mm} \\cdot \\left( 2.718 \\right) ^{ -0.326 } &= 25.000\\ \\text{mm}\n",
       "\\end{aligned}\n",
       "\\]"
      ],
      "text/plain": [
       "<IPython.core.display.Latex object>"
      ]
     },
     "metadata": {},
     "output_type": "display_data"
    }
   ],
   "source": [
    "%%render\n",
    "#short\n",
    "\n",
    "h_i = h\n",
    "h_f = h*e**phi_h"
   ]
  },
  {
   "cell_type": "code",
   "execution_count": 4,
   "metadata": {},
   "outputs": [
    {
     "data": {
      "text/latex": [
       "\\[\n",
       "\\begin{aligned}\n",
       "\\Delta_{h} &= h_{i} - h_{f} = 34.641\\ \\text{mm} - 25.000\\ \\text{mm} &= 9.641\\ \\text{mm}\n",
       "\\end{aligned}\n",
       "\\]"
      ],
      "text/plain": [
       "<IPython.core.display.Latex object>"
      ]
     },
     "metadata": {},
     "output_type": "display_data"
    }
   ],
   "source": [
    "%%render\n",
    "\n",
    "Delta_h = h_i - h_f"
   ]
  },
  {
   "cell_type": "markdown",
   "metadata": {},
   "source": [
    "### Definindo grandezas de contato:"
   ]
  },
  {
   "cell_type": "markdown",
   "metadata": {},
   "source": [
    "Para definir o raio do rolo:"
   ]
  },
  {
   "cell_type": "code",
   "execution_count": 5,
   "metadata": {},
   "outputs": [
    {
     "data": {
      "text/latex": [
       "\\[\n",
       "\\begin{aligned}\n",
       "Temp_{processo} &= 1.000\\ \\text{k°C} &C &= 500.000\\ \\text{μ°C}^{-1}\n",
       "\\end{aligned}\n",
       "\\]"
      ],
      "text/plain": [
       "<IPython.core.display.Latex object>"
      ]
     },
     "metadata": {},
     "output_type": "display_data"
    }
   ],
   "source": [
    "%%render\n",
    "#parameters\n",
    "\n",
    "Temp_processo = 1000*Celsius\n",
    "\n",
    "C = 0.0005/Celsius"
   ]
  },
  {
   "cell_type": "code",
   "execution_count": 6,
   "metadata": {},
   "outputs": [
    {
     "data": {
      "text/latex": [
       "\\[\n",
       "\\begin{aligned}\n",
       "\\mu &= 0.8 \\cdot \\left( 1.05 - C \\cdot Temp_{processo} \\right) = 0.8 \\cdot \\left( 1.05 - 500.000\\ \\text{μ°C}^{-1} \\cdot 1.000\\ \\text{k°C} \\right) &= 0.44\\;\\;\\textrm{(específico para aços)}\n",
       "\\end{aligned}\n",
       "\\]"
      ],
      "text/plain": [
       "<IPython.core.display.Latex object>"
      ]
     },
     "metadata": {},
     "output_type": "display_data"
    }
   ],
   "source": [
    "%%render\n",
    "#short\n",
    "\n",
    "mu = 0.8*(1.05-C*Temp_processo) #específico para aços"
   ]
  },
  {
   "cell_type": "code",
   "execution_count": 7,
   "metadata": {},
   "outputs": [
    {
     "data": {
      "text/latex": [
       "\\[\n",
       "\\begin{aligned}\n",
       "Raio &= 100.000\\ \\text{mm}\\;\\;\\textrm{(configuração da máquina)}\n",
       "\\\\[10pt]\n",
       "CritSeg &= 1.5\\;\\;\\textrm{(sendo extremamente conservador)}\n",
       "\\\\[10pt]\n",
       "Raio_{Minimo} &= CritSeg \\cdot \\frac{ \\Delta_{h} }{ \\left( \\sin{ \\left( \\operatorname{arctan} \\left( \\mu \\right) \\right) } \\right) ^{ 2 } } = 1.5 \\cdot \\frac{ 9.641\\ \\text{mm} }{ \\left( \\sin{ \\left( \\operatorname{arctan} \\left( 0.44 \\right) \\right) } \\right) ^{ 2 } } &= 89.159\\ \\text{mm}\n",
       "\\end{aligned}\n",
       "\\]"
      ],
      "text/plain": [
       "<IPython.core.display.Latex object>"
      ]
     },
     "metadata": {},
     "output_type": "display_data"
    }
   ],
   "source": [
    "%%render\n",
    "#short\n",
    "\n",
    "Raio = ((200/2)*mm) #configuração da máquina\n",
    "\n",
    "CritSeg = 1.5 #sendo extremamente conservador\n",
    "\n",
    "Raio_Minimo = CritSeg * Delta_h/((sin(arctan(mu)))**2)"
   ]
  },
  {
   "cell_type": "markdown",
   "metadata": {},
   "source": [
    "Mesmo com um CS alto, o raio mínimo requirido é bem menor que o raio presente no maquinário. Não há necessidade de ajuste no projeto."
   ]
  },
  {
   "cell_type": "markdown",
   "metadata": {},
   "source": [
    "### Cálculos de contato"
   ]
  },
  {
   "cell_type": "code",
   "execution_count": 8,
   "metadata": {},
   "outputs": [
    {
     "data": {
      "text/latex": [
       "\\[\n",
       "\\begin{aligned}\n",
       "l_{d} &= \\left( Raio \\cdot \\Delta_{h} \\right) ^{ 0.5 } \\\\&= \\left( 100.000\\ \\text{mm} \\cdot 9.641\\ \\text{mm} \\right) ^{ 0.5 } \\\\&= 31.050\\ \\text{mm}\\\\\n",
       "\\end{aligned}\n",
       "\\]"
      ],
      "text/plain": [
       "<IPython.core.display.Latex object>"
      ]
     },
     "metadata": {},
     "output_type": "display_data"
    }
   ],
   "source": [
    "%%render\n",
    "#long\n",
    "\n",
    "l_d = (Raio*Delta_h)**0.5"
   ]
  },
  {
   "cell_type": "code",
   "execution_count": 9,
   "metadata": {},
   "outputs": [
    {
     "data": {
      "text/latex": [
       "\\[\n",
       "\\begin{aligned}\n",
       "b_{i} &= 34.641\\ \\text{mm}\\;\n",
       "\\\\[10pt]\n",
       "Temp_{ref} &= 1000\\;\\;\\textrm{(K)}\n",
       "\\\\[10pt]\n",
       "Temp_{proc} &= 1273\\;\\;\\textrm{(K)}\n",
       "\\\\[10pt]\n",
       "C_{b\\mu} &= \\frac{ Temp_{ref} }{ Temp_{proc} } \\\\&= \\frac{ 1000 }{ 1273 } \\\\&= 0.786\\\\\n",
       "\\end{aligned}\n",
       "\\]"
      ],
      "text/plain": [
       "<IPython.core.display.Latex object>"
      ]
     },
     "metadata": {},
     "output_type": "display_data"
    }
   ],
   "source": [
    "%%render\n",
    "#long\n",
    "\n",
    "b_i = b\n",
    "\n",
    "Temp_ref = 1000 #K\n",
    "Temp_proc = (1000 + 273) #K\n",
    "\n",
    "C_bmu = Temp_ref/Temp_proc"
   ]
  },
  {
   "cell_type": "code",
   "execution_count": 10,
   "metadata": {},
   "outputs": [
    {
     "data": {
      "text/latex": [
       "\\[\n",
       "\\begin{aligned}\n",
       "\\phi_{b} &= - \\phi_{h} \\cdot \\left( e \\right) ^{ \\left( - C_{b\\mu} \\cdot \\left( \\frac{ b_{i} }{ l_{d} } \\right) \\right) } \\\\&= - -0.326 \\cdot \\left( 2.718 \\right) ^{ \\left( - 0.786 \\cdot \\left( \\frac{ 34.641\\ \\text{mm} }{ 31.050\\ \\text{mm} } \\right) \\right) } \\\\&= 0.136\\\\\n",
       "\\\\[10pt]\n",
       "b_{f} &= b_{i} \\cdot \\left( e \\right) ^{ \\phi_{b} } \\\\&= 34.641\\ \\text{mm} \\cdot \\left( 2.718 \\right) ^{ 0.136 } \\\\&= 39.679\\ \\text{mm}\\\\\n",
       "\\end{aligned}\n",
       "\\]"
      ],
      "text/plain": [
       "<IPython.core.display.Latex object>"
      ]
     },
     "metadata": {},
     "output_type": "display_data"
    }
   ],
   "source": [
    "%%render\n",
    "#long\n",
    "\n",
    "phi_b = -phi_h*e**(-C_bmu*(b_i/l_d))\n",
    "\n",
    "b_f = b_i*e**phi_b"
   ]
  },
  {
   "cell_type": "markdown",
   "metadata": {},
   "source": [
    "Utilizaremos a média entre a entrada e a saída para os cálculos futuros:"
   ]
  },
  {
   "cell_type": "code",
   "execution_count": 11,
   "metadata": {},
   "outputs": [
    {
     "data": {
      "text/latex": [
       "\\[\n",
       "\\begin{aligned}\n",
       "b_{m} &= \\frac{ b_{i} + b_{f} }{ 2 } = \\frac{ 34.641\\ \\text{mm} + 39.679\\ \\text{mm} }{ 2 } &= 37.160\\ \\text{mm}\n",
       "\\end{aligned}\n",
       "\\]"
      ],
      "text/plain": [
       "<IPython.core.display.Latex object>"
      ]
     },
     "metadata": {},
     "output_type": "display_data"
    }
   ],
   "source": [
    "%%render\n",
    "#short\n",
    "\n",
    "b_m = (b_i + b_f)/2"
   ]
  },
  {
   "cell_type": "markdown",
   "metadata": {},
   "source": [
    "E agora, é possível calcular a área de contato $A_c$:"
   ]
  },
  {
   "cell_type": "code",
   "execution_count": 12,
   "metadata": {},
   "outputs": [
    {
     "data": {
      "text/latex": [
       "\\[\n",
       "\\begin{aligned}\n",
       "A_{c} &= b_{m} \\cdot l_{d} = 37.160\\ \\text{mm} \\cdot 31.050\\ \\text{mm} &= 1153.812\\ \\text{mm}^{2.0}\n",
       "\\end{aligned}\n",
       "\\]"
      ],
      "text/plain": [
       "<IPython.core.display.Latex object>"
      ]
     },
     "metadata": {},
     "output_type": "display_data"
    }
   ],
   "source": [
    "%%render\n",
    "#short\n",
    "\n",
    "A_c = b_m*l_d"
   ]
  },
  {
   "cell_type": "markdown",
   "metadata": {},
   "source": [
    "### O comprimento varia de etapa para etapa, e sua deformação pode ser deduzida da equação de conservação de massa"
   ]
  },
  {
   "cell_type": "code",
   "execution_count": 13,
   "metadata": {},
   "outputs": [
    {
     "data": {
      "text/latex": [
       "\\[\n",
       "\\begin{aligned}\n",
       "\\phi_{l} &= - \\phi_{b} - \\phi_{h} = - 0.136 - -0.326 &= 0.19\n",
       "\\end{aligned}\n",
       "\\]"
      ],
      "text/plain": [
       "<IPython.core.display.Latex object>"
      ]
     },
     "metadata": {},
     "output_type": "display_data"
    }
   ],
   "source": [
    "%%render \n",
    "#short 8 \n",
    "\n",
    "phi_l = -phi_b - phi_h"
   ]
  },
  {
   "cell_type": "markdown",
   "metadata": {},
   "source": [
    "Não foi pedido pelo exercício, mas podemos estimar qual comprimento final da barra ao fim do processo:"
   ]
  },
  {
   "cell_type": "code",
   "execution_count": 24,
   "metadata": {},
   "outputs": [
    {
     "data": {
      "text/latex": [
       "\\[\n",
       "\\begin{aligned}\n",
       "l_{i} &= 1.000\\ \\text{m}\\;\n",
       "\\\\[10pt]\n",
       "l_{f} &= l_{i} \\cdot \\left( e \\right) ^{ \\phi_{l} } \\\\&= 1.000\\ \\text{m} \\cdot \\left( 2.718 \\right) ^{ 0.19 } \\\\&= 1.210\\ \\text{m}\\;\\;\\textrm{(para cada 1 metro que entra no processo, 1.2 metros são \"gerados\")}\\\\\n",
       "\\end{aligned}\n",
       "\\]"
      ],
      "text/plain": [
       "<IPython.core.display.Latex object>"
      ]
     },
     "metadata": {},
     "output_type": "display_data"
    }
   ],
   "source": [
    "%%render\n",
    "#long\n",
    "\n",
    "l_i = (1*m)\n",
    "\n",
    "l_f = l_i*e**phi_l #para cada 1 metro que entra no processo, 1.2 metros são \"gerados\""
   ]
  },
  {
   "cell_type": "code",
   "execution_count": 15,
   "metadata": {},
   "outputs": [
    {
     "data": {
      "text/latex": [
       "\\[\n",
       "\\begin{aligned}\n",
       "V_{linear} &= Raio \\cdot 40 \\cdot \\frac{ 2 \\cdot \\pi }{ 60 } \\cdot \\frac{ 1 }{ s } \\\\&= 100.000\\ \\text{mm} \\cdot 40 \\cdot \\frac{ 2 \\cdot 3.142 }{ 60 } \\cdot \\frac{ 1 }{ s } \\\\&= 0.419\\ \\text{m} \\cdot \\text{s}^{-1}\\\\\n",
       "\\\\[10pt]\n",
       "Tempo &= \\frac{ l_{f} }{ V_{linear} } \\\\&= \\frac{ 1.210\\ \\text{m} }{ 0.419\\ \\text{m} \\cdot \\text{s}^{-1} } \\\\&= 2.888\\ \\text{s}\\\\\n",
       "\\end{aligned}\n",
       "\\]"
      ],
      "text/plain": [
       "<IPython.core.display.Latex object>"
      ]
     },
     "metadata": {},
     "output_type": "display_data"
    }
   ],
   "source": [
    "%%render\n",
    "#long\n",
    "\n",
    "V_linear = Raio*40*(2*pi)/60*(1/s)\n",
    "\n",
    "Tempo = l_f/V_linear"
   ]
  },
  {
   "cell_type": "markdown",
   "metadata": {},
   "source": [
    "### A tensão de escoamento $\\sigma_e$, para laminação a quente, é constante"
   ]
  },
  {
   "cell_type": "code",
   "execution_count": 16,
   "metadata": {},
   "outputs": [
    {
     "data": {
      "text/latex": [
       "\\[\n",
       "\\begin{aligned}\n",
       "Temp_{processo} &= 1000\\;\\;\\textrm{(°C)}\n",
       "\\\\[10pt]\n",
       "C_{perc} &= 0.65\\;\\;\\textrm{(%)}\n",
       "\\\\[10pt]\n",
       "Mn_{perc} &= 0.8\\;\\;\\textrm{(%)}\n",
       "\\\\[10pt]\n",
       "Cr_{perc} &= 0.2\\;\\;\\textrm{(%)}\n",
       "\\\\[10pt]\n",
       "\\sigma_{e_{kgfmm2}} &= \\left( 14 - 0.01 \\cdot Temp_{processo} \\right) \\cdot \\left( 1.4 + C_{perc} + Mn_{perc} + 0.3 \\cdot Cr_{perc} \\right) \\\\&= \\left( 14 - 0.01 \\cdot 1000 \\right) \\cdot \\left( 1.4 + 0.65 + 0.8 + 0.3 \\cdot 0.2 \\right) \\\\&= 11.64\\;\\;\\textrm{(kgf/mm²)}\\\\\n",
       "\\\\[10pt]\n",
       "\\sigma_{e} &= \\sigma_{e_{kgfmm2}} \\cdot 9.81 \\cdot MPa \\\\&= 11.64 \\cdot 9.81 \\cdot MPa \\\\&= 114.188\\ \\text{MPa}\\;\\;\\textrm{(o cálculo é feito em kgf/mm², mas foi transformado para MPa)}\\\\\n",
       "\\end{aligned}\n",
       "\\]"
      ],
      "text/plain": [
       "<IPython.core.display.Latex object>"
      ]
     },
     "metadata": {},
     "output_type": "display_data"
    }
   ],
   "source": [
    "%%render\n",
    "#long\n",
    "\n",
    "Temp_processo=1000 #°C\n",
    "\n",
    "C_perc = 0.65 #%\n",
    "\n",
    "Mn_perc = 0.80 #%\n",
    "\n",
    "Cr_perc = 0.2 #%\n",
    "\n",
    "sigma_e_kgfmm2 = (14 - 0.01*Temp_processo)*(1.4+C_perc+Mn_perc+0.3*Cr_perc) #kgf/mm²\n",
    "\n",
    "sigma_e = sigma_e_kgfmm2*9.81*MPa #o cálculo é feito em kgf/mm², mas foi transformado para MPa"
   ]
  },
  {
   "cell_type": "markdown",
   "metadata": {},
   "source": [
    "### Para chegar na potência, se faz necessário o cálculo das forças e dos momentos "
   ]
  },
  {
   "cell_type": "markdown",
   "metadata": {},
   "source": [
    "A força, na laminação a quente, é calculada pela área de contato e pela pressão específica $K_w$.\n",
    "\n",
    "$K_w$ depende de dois novos fatores, a velocidade de deformação $\\dot{\\phi}$ e o coeficiente de plasticidade $\\eta$:"
   ]
  },
  {
   "cell_type": "code",
   "execution_count": 17,
   "metadata": {},
   "outputs": [
    {
     "data": {
      "text/latex": [
       "\\[\n",
       "\\begin{aligned}\n",
       "\\eta &= 0.01 \\cdot \\left( 14 - 0.01 \\cdot Temp_{processo} \\right) \\cdot s \\\\&= 0.01 \\cdot \\left( 14 - 0.01 \\cdot 1000 \\right) \\cdot s \\\\&= 40.000\\ \\text{ms}\\;\\;\\textrm{(por questões de consistência dimensional, trata-se $\\eta$ como $s^{-1}$)}\\\\\n",
       "\\\\[10pt]\n",
       "\\omega_{angular} &= \\frac{ V_{linear} }{ Raio } \\\\&= \\frac{ 0.419\\ \\text{m} \\cdot \\text{s}^{-1} }{ 100.000\\ \\text{mm} } \\\\&= 4.189\\ \\text{Hz}\\\\\n",
       "\\end{aligned}\n",
       "\\]"
      ],
      "text/plain": [
       "<IPython.core.display.Latex object>"
      ]
     },
     "metadata": {},
     "output_type": "display_data"
    }
   ],
   "source": [
    "%%render\n",
    "#long\n",
    "\n",
    "eta = 0.01*(14-0.01*Temp_processo)*s #por questões de consistência dimensional, trata-se $\\eta$ como $s^{-1}$\n",
    "\n",
    "omega_angular = V_linear/Raio"
   ]
  },
  {
   "cell_type": "code",
   "execution_count": 18,
   "metadata": {},
   "outputs": [
    {
     "data": {
      "text/latex": [
       "\\[\n",
       "\\begin{aligned}\n",
       "\\phi_{dot} &= \\frac{ 2 \\cdot V_{linear} \\cdot \\left( \\frac{ \\Delta_{h} }{ Raio } \\right) ^{ 0.5 } }{ h_{i} + h_{f} } = \\frac{ 2 \\cdot 0.419\\ \\text{m} \\cdot \\text{s}^{-1} \\cdot \\left( \\frac{ 9.641\\ \\text{mm} }{ 100.000\\ \\text{mm} } \\right) ^{ 0.5 } }{ 34.641\\ \\text{mm} + 25.000\\ \\text{mm} } &= 4.361\\ \\text{Hz}\n",
       "\\end{aligned}\n",
       "\\]"
      ],
      "text/plain": [
       "<IPython.core.display.Latex object>"
      ]
     },
     "metadata": {},
     "output_type": "display_data"
    }
   ],
   "source": [
    "%%render\n",
    "#short\n",
    "\n",
    "phi_dot = (2*V_linear*(Delta_h/Raio)**0.5)/(h_i+h_f)"
   ]
  },
  {
   "cell_type": "markdown",
   "metadata": {},
   "source": [
    "Finalmente, $K_w$:"
   ]
  },
  {
   "cell_type": "code",
   "execution_count": 19,
   "metadata": {},
   "outputs": [
    {
     "data": {
      "text/latex": [
       "\\[\n",
       "\\begin{aligned}\n",
       "K_{w} &= \\left( 1 + \\frac{ 1.6 \\cdot \\mu \\cdot l_{d} - 1.2 \\cdot \\Delta_{h} }{ h_{i} + h_{f} } \\right) \\cdot \\left( \\frac{ \\sigma_{e} }{ 9.81 \\cdot MPa } + \\eta \\cdot \\phi_{dot} \\right) \\cdot \\left( 9.81 \\cdot MPa \\right) \\\\&= \\left( 1 + \\frac{ 1.6 \\cdot 0.44 \\cdot 31.050\\ \\text{mm} - 1.2 \\cdot 9.641\\ \\text{mm} }{ 34.641\\ \\text{mm} + 25.000\\ \\text{mm} } \\right) \\cdot \\left( \\frac{ 114.188\\ \\text{MPa} }{ 9.81 \\cdot MPa } + 40.000\\ \\text{ms} \\cdot 4.361\\ \\text{Hz} \\right) \\cdot \\left( 9.81 \\cdot MPa \\right) \\\\&= 135.896\\ \\text{MPa}\\;\\;\\textrm{(como o cálculo é empírico e envolve kgf/mm², alguma complicação no dimensional acontece)}\\\\\n",
       "\\end{aligned}\n",
       "\\]"
      ],
      "text/plain": [
       "<IPython.core.display.Latex object>"
      ]
     },
     "metadata": {},
     "output_type": "display_data"
    }
   ],
   "source": [
    "%%render\n",
    "#long\n",
    "\n",
    "K_w = (1+(1.6*mu*l_d-1.2*Delta_h)/(h_i+h_f))*(sigma_e/(9.81*MPa)+eta*phi_dot)*(9.81*MPa) #como o cálculo é empírico e envolve kgf/mm², alguma complicação no dimensional acontece"
   ]
  },
  {
   "cell_type": "markdown",
   "metadata": {},
   "source": [
    "Perto do fim, as Forças:"
   ]
  },
  {
   "cell_type": "code",
   "execution_count": 20,
   "metadata": {},
   "outputs": [
    {
     "data": {
      "text/latex": [
       "\\[\n",
       "\\begin{aligned}\n",
       "F &= K_{w} \\cdot A_{c} = 135.896\\ \\text{MPa} \\cdot 1153.812\\ \\text{mm}^{2.0} &= 156.799\\ \\text{kN}\n",
       "\\end{aligned}\n",
       "\\]"
      ],
      "text/plain": [
       "<IPython.core.display.Latex object>"
      ]
     },
     "metadata": {},
     "output_type": "display_data"
    }
   ],
   "source": [
    "%%render\n",
    "#short\n",
    "\n",
    "F = K_w*A_c"
   ]
  },
  {
   "cell_type": "markdown",
   "metadata": {},
   "source": [
    "### E, para finalizar, os Momentos e a Potência:"
   ]
  },
  {
   "cell_type": "code",
   "execution_count": 23,
   "metadata": {},
   "outputs": [
    {
     "data": {
      "text/latex": [
       "\\[\n",
       "\\begin{aligned}\n",
       "M &= F \\cdot l_{d} \\\\&= 156.799\\ \\text{kN} \\cdot 31.050\\ \\text{mm} \\\\&= 4.869\\ \\text{kN} \\cdot \\text{m}\\\\\n",
       "\\\\[10pt]\n",
       "\\eta_{mecanica} &= 0.85\\;\n",
       "\\\\[10pt]\n",
       "P &= \\left( \\frac{ M \\cdot \\omega_{angular} }{ \\eta_{mecanica} } \\right) \\cdot \\left( \\frac{ 1 }{ 0.735 \\cdot 1000 \\cdot W } \\right) \\\\&= \\left( \\frac{ 4.869\\ \\text{kN} \\cdot \\text{m} \\cdot 4.189\\ \\text{Hz} }{ 0.85 } \\right) \\cdot \\left( \\frac{ 1 }{ 0.735 \\cdot 1000 \\cdot W } \\right) \\\\&= 32.643\\;\\;\\textrm{(CV)}\\\\\n",
       "\\end{aligned}\n",
       "\\]"
      ],
      "text/plain": [
       "<IPython.core.display.Latex object>"
      ]
     },
     "metadata": {},
     "output_type": "display_data"
    }
   ],
   "source": [
    "%%render\n",
    "#long\n",
    "\n",
    "M = F * l_d\n",
    "\n",
    "eta_mecanica = 0.85\n",
    "\n",
    "P = ((M * omega_angular)/eta_mecanica)*(1/(0.735*1000*W)) #CV"
   ]
  }
 ],
 "metadata": {
  "kernelspec": {
   "display_name": "Python 3",
   "language": "python",
   "name": "python3"
  },
  "language_info": {
   "codemirror_mode": {
    "name": "ipython",
    "version": 3
   },
   "file_extension": ".py",
   "mimetype": "text/x-python",
   "name": "python",
   "nbconvert_exporter": "python",
   "pygments_lexer": "ipython3",
   "version": "3.8.5"
  }
 },
 "nbformat": 4,
 "nbformat_minor": 4
}
