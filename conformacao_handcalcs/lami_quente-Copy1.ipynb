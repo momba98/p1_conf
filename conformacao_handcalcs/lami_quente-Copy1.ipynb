{
 "cells": [
  {
   "cell_type": "code",
   "execution_count": 1,
   "metadata": {},
   "outputs": [],
   "source": [
    "from handcalcs import render \n",
    "import forallpeople as si\n",
    "\n",
    "si.environment('default', top_level=True)\n",
    "\n",
    "from scipy.optimize import fsolve\n",
    "\n",
    "import sympy as sp\n",
    "import numpy as np\n",
    "\n",
    "from numpy import log as ln\n",
    "from numpy import pi, arctan, sin, e\n",
    "\n",
    "from math import ceil as Arredondar\n",
    "from math import fabs as Absoluto\n",
    "from math import sqrt\n",
    "\n",
    "import pandas as pd\n"
   ]
  },
  {
   "cell_type": "markdown",
   "metadata": {},
   "source": [
    "# Enunciado\n",
    "\n",
    "Uma Barra de aço de seção quadrada de 4” x 4” será laminada até uma\n",
    "espessura final de 1” em um trem de laminação contínuo de seis que produzem\n",
    "mesma deformação. Sabendo que a laminação será a quente, com cilindros de\n",
    "aço que tem seu diâmetro 20% maior que o mínimo necessário, e que o primeiro\n",
    "para gira a 50 rpm. Calcule a força e a potência de laminação para cada gaiola.\n",
    "\n",
    "A composição do material é a seguinte: 0,20%C; ,45%Mn; 0,04%P; 0,05%S e o\n",
    "material é laminado a 900º C. "
   ]
  },
  {
   "cell_type": "markdown",
   "metadata": {},
   "source": [
    "### Definindo grandezas sobre a espessura: "
   ]
  },
  {
   "cell_type": "code",
   "execution_count": 2,
   "metadata": {},
   "outputs": [
    {
     "data": {
      "text/latex": [
       "\\[\n",
       "\\begin{aligned}\n",
       "\\phi_{total_{esp}} &= \\operatorname{ln} \\left( \\frac{ 1 \\cdot 25.4 \\cdot mm }{ 4 \\cdot 25.4 \\cdot mm } \\right) \\\\&= \\operatorname{ln} \\left( \\frac{ 1 \\cdot 25.4 \\cdot mm }{ 4 \\cdot 25.4 \\cdot mm } \\right) \\\\&= -1.386\\\\\n",
       "\\end{aligned}\n",
       "\\]"
      ],
      "text/plain": [
       "<IPython.core.display.Latex object>"
      ]
     },
     "metadata": {},
     "output_type": "display_data"
    }
   ],
   "source": [
    "%%render\n",
    "#long\n",
    "\n",
    "phi_total_esp = ln((1*25.4*mm)/(4*25.4*mm))"
   ]
  },
  {
   "cell_type": "markdown",
   "metadata": {},
   "source": [
    "De acordo com o enunciado, deve-se repartir o processo inteiro em 6 etapas diferentes, logo:"
   ]
  },
  {
   "cell_type": "code",
   "execution_count": 3,
   "metadata": {},
   "outputs": [
    {
     "data": {
      "text/latex": [
       "\\[\n",
       "\\begin{aligned}\n",
       "n_{gaiolas} &= 6\\;\n",
       "\\end{aligned}\n",
       "\\]"
      ],
      "text/plain": [
       "<IPython.core.display.Latex object>"
      ]
     },
     "metadata": {},
     "output_type": "display_data"
    }
   ],
   "source": [
    "%%render\n",
    "#long\n",
    "\n",
    "n_gaiolas = 6"
   ]
  },
  {
   "cell_type": "markdown",
   "metadata": {},
   "source": [
    "Conclui-se, portanto, quanto de deformação ocorrerá na espessura em cada passe:"
   ]
  },
  {
   "cell_type": "code",
   "execution_count": 4,
   "metadata": {},
   "outputs": [
    {
     "data": {
      "text/latex": [
       "\\[\n",
       "\\begin{aligned}\n",
       "\\phi_{parcial_{h}} &= \\frac{ \\phi_{total_{esp}} }{ n_{gaiolas} } \\\\&= \\frac{ -1.386 }{ 6 } \\\\&= -0.231\\\\\n",
       "\\end{aligned}\n",
       "\\]"
      ],
      "text/plain": [
       "<IPython.core.display.Latex object>"
      ]
     },
     "metadata": {},
     "output_type": "display_data"
    }
   ],
   "source": [
    "%%render\n",
    "#long\n",
    "\n",
    "phi_parcial_h = phi_total_esp/n_gaiolas"
   ]
  },
  {
   "cell_type": "markdown",
   "metadata": {},
   "source": [
    "Organizando as espessuras de entrada e de saída de cada gaiola:"
   ]
  },
  {
   "cell_type": "code",
   "execution_count": 5,
   "metadata": {},
   "outputs": [
    {
     "data": {
      "text/latex": [
       "\\[\n",
       "\\begin{aligned}\n",
       "h_{i_{1}} &= 4 \\cdot 25.4 \\cdot mm = 4 \\cdot 25.4 \\cdot mm &= 101.600\\ \\text{mm}\n",
       "\\\\[10pt]\n",
       "h_{f_{1}} &= h_{i_{1}} \\cdot \\left( e \\right) ^{ \\phi_{parcial_{h}} } = 101.600\\ \\text{mm} \\cdot \\left( 2.718 \\right) ^{ -0.231 } &= 80.640\\ \\text{mm}\n",
       "\\\\[10pt]\n",
       "h_{i_{2}} &= 80.640\\ \\text{mm}\\;\n",
       "\\\\[10pt]\n",
       "h_{f_{2}} &= h_{i_{2}} \\cdot \\left( e \\right) ^{ \\phi_{parcial_{h}} } = 80.640\\ \\text{mm} \\cdot \\left( 2.718 \\right) ^{ -0.231 } &= 64.004\\ \\text{mm}\n",
       "\\\\[10pt]\n",
       "h_{i_{3}} &= 64.004\\ \\text{mm}\\;\n",
       "\\\\[10pt]\n",
       "h_{f_{3}} &= h_{i_{3}} \\cdot \\left( e \\right) ^{ \\phi_{parcial_{h}} } = 64.004\\ \\text{mm} \\cdot \\left( 2.718 \\right) ^{ -0.231 } &= 50.800\\ \\text{mm}\n",
       "\\\\[10pt]\n",
       "h_{i_{4}} &= 50.800\\ \\text{mm}\\;\n",
       "\\\\[10pt]\n",
       "h_{f_{4}} &= h_{i_{4}} \\cdot \\left( e \\right) ^{ \\phi_{parcial_{h}} } = 50.800\\ \\text{mm} \\cdot \\left( 2.718 \\right) ^{ -0.231 } &= 40.320\\ \\text{mm}\n",
       "\\\\[10pt]\n",
       "h_{i_{5}} &= 40.320\\ \\text{mm}\\;\n",
       "\\\\[10pt]\n",
       "h_{f_{5}} &= h_{i_{5}} \\cdot \\left( e \\right) ^{ \\phi_{parcial_{h}} } = 40.320\\ \\text{mm} \\cdot \\left( 2.718 \\right) ^{ -0.231 } &= 32.002\\ \\text{mm}\n",
       "\\\\[10pt]\n",
       "h_{i_{6}} &= 32.002\\ \\text{mm}\\;\n",
       "\\\\[10pt]\n",
       "h_{f_{6}} &= h_{i_{6}} \\cdot \\left( e \\right) ^{ \\phi_{parcial_{h}} } = 32.002\\ \\text{mm} \\cdot \\left( 2.718 \\right) ^{ -0.231 } &= 25.400\\ \\text{mm}\n",
       "\\end{aligned}\n",
       "\\]"
      ],
      "text/plain": [
       "<IPython.core.display.Latex object>"
      ]
     },
     "metadata": {},
     "output_type": "display_data"
    }
   ],
   "source": [
    "%%render\n",
    "#short\n",
    "\n",
    "h_i_1 = 4*25.4*mm\n",
    "h_f_1 = h_i_1*e**phi_parcial_h\n",
    "\n",
    "h_i_2 = h_f_1\n",
    "h_f_2 = h_i_2*e**phi_parcial_h\n",
    "\n",
    "h_i_3 = h_f_2\n",
    "h_f_3 = h_i_3*e**phi_parcial_h\n",
    "\n",
    "h_i_4 = h_f_3\n",
    "h_f_4 = h_i_4*e**phi_parcial_h\n",
    "\n",
    "h_i_5 = h_f_4\n",
    "h_f_5 = h_i_5*e**phi_parcial_h\n",
    "\n",
    "h_i_6 = h_f_5\n",
    "h_f_6 = h_i_6*e**phi_parcial_h"
   ]
  },
  {
   "cell_type": "markdown",
   "metadata": {},
   "source": [
    "Visualizando em tabela, para facilitar:"
   ]
  },
  {
   "cell_type": "code",
   "execution_count": 6,
   "metadata": {},
   "outputs": [
    {
     "data": {
      "text/html": [
       "<div>\n",
       "<style scoped>\n",
       "    .dataframe tbody tr th:only-of-type {\n",
       "        vertical-align: middle;\n",
       "    }\n",
       "\n",
       "    .dataframe tbody tr th {\n",
       "        vertical-align: top;\n",
       "    }\n",
       "\n",
       "    .dataframe thead th {\n",
       "        text-align: right;\n",
       "    }\n",
       "</style>\n",
       "<table border=\"1\" class=\"dataframe\">\n",
       "  <thead>\n",
       "    <tr style=\"text-align: right;\">\n",
       "      <th></th>\n",
       "      <th>H Entrada</th>\n",
       "      <th>H Saída</th>\n",
       "    </tr>\n",
       "  </thead>\n",
       "  <tbody>\n",
       "    <tr>\n",
       "      <th>1</th>\n",
       "      <td>101.600 mm</td>\n",
       "      <td>80.640 mm</td>\n",
       "    </tr>\n",
       "    <tr>\n",
       "      <th>2</th>\n",
       "      <td>80.640 mm</td>\n",
       "      <td>64.004 mm</td>\n",
       "    </tr>\n",
       "    <tr>\n",
       "      <th>3</th>\n",
       "      <td>64.004 mm</td>\n",
       "      <td>50.800 mm</td>\n",
       "    </tr>\n",
       "    <tr>\n",
       "      <th>4</th>\n",
       "      <td>50.800 mm</td>\n",
       "      <td>40.320 mm</td>\n",
       "    </tr>\n",
       "    <tr>\n",
       "      <th>5</th>\n",
       "      <td>40.320 mm</td>\n",
       "      <td>32.002 mm</td>\n",
       "    </tr>\n",
       "    <tr>\n",
       "      <th>6</th>\n",
       "      <td>32.002 mm</td>\n",
       "      <td>25.400 mm</td>\n",
       "    </tr>\n",
       "  </tbody>\n",
       "</table>\n",
       "</div>"
      ],
      "text/plain": [
       "    H Entrada    H Saída\n",
       "1  101.600 mm  80.640 mm\n",
       "2   80.640 mm  64.004 mm\n",
       "3   64.004 mm  50.800 mm\n",
       "4   50.800 mm  40.320 mm\n",
       "5   40.320 mm  32.002 mm\n",
       "6   32.002 mm  25.400 mm"
      ]
     },
     "execution_count": 6,
     "metadata": {},
     "output_type": "execute_result"
    }
   ],
   "source": [
    "info = pd.DataFrame(index=np.arange(1,7))\n",
    "\n",
    "info['H Entrada'] = [h_i_1,h_i_2,h_i_3,h_i_4,h_i_5,h_i_6]\n",
    "info['H Saída'] = [h_f_1,h_f_2,h_f_3,h_f_4,h_f_5,h_f_6]\n",
    "\n",
    "info"
   ]
  },
  {
   "cell_type": "markdown",
   "metadata": {},
   "source": [
    "A variação de espessura em cada processo:"
   ]
  },
  {
   "cell_type": "code",
   "execution_count": 7,
   "metadata": {},
   "outputs": [
    {
     "data": {
      "text/html": [
       "<div>\n",
       "<style scoped>\n",
       "    .dataframe tbody tr th:only-of-type {\n",
       "        vertical-align: middle;\n",
       "    }\n",
       "\n",
       "    .dataframe tbody tr th {\n",
       "        vertical-align: top;\n",
       "    }\n",
       "\n",
       "    .dataframe thead th {\n",
       "        text-align: right;\n",
       "    }\n",
       "</style>\n",
       "<table border=\"1\" class=\"dataframe\">\n",
       "  <thead>\n",
       "    <tr style=\"text-align: right;\">\n",
       "      <th></th>\n",
       "      <th>H Entrada</th>\n",
       "      <th>H Saída</th>\n",
       "      <th>H Delta</th>\n",
       "    </tr>\n",
       "  </thead>\n",
       "  <tbody>\n",
       "    <tr>\n",
       "      <th>1</th>\n",
       "      <td>101.600 mm</td>\n",
       "      <td>80.640 mm</td>\n",
       "      <td>20.960 mm</td>\n",
       "    </tr>\n",
       "    <tr>\n",
       "      <th>2</th>\n",
       "      <td>80.640 mm</td>\n",
       "      <td>64.004 mm</td>\n",
       "      <td>16.636 mm</td>\n",
       "    </tr>\n",
       "    <tr>\n",
       "      <th>3</th>\n",
       "      <td>64.004 mm</td>\n",
       "      <td>50.800 mm</td>\n",
       "      <td>13.204 mm</td>\n",
       "    </tr>\n",
       "    <tr>\n",
       "      <th>4</th>\n",
       "      <td>50.800 mm</td>\n",
       "      <td>40.320 mm</td>\n",
       "      <td>10.480 mm</td>\n",
       "    </tr>\n",
       "    <tr>\n",
       "      <th>5</th>\n",
       "      <td>40.320 mm</td>\n",
       "      <td>32.002 mm</td>\n",
       "      <td>8.318 mm</td>\n",
       "    </tr>\n",
       "    <tr>\n",
       "      <th>6</th>\n",
       "      <td>32.002 mm</td>\n",
       "      <td>25.400 mm</td>\n",
       "      <td>6.602 mm</td>\n",
       "    </tr>\n",
       "  </tbody>\n",
       "</table>\n",
       "</div>"
      ],
      "text/plain": [
       "    H Entrada    H Saída    H Delta\n",
       "1  101.600 mm  80.640 mm  20.960 mm\n",
       "2   80.640 mm  64.004 mm  16.636 mm\n",
       "3   64.004 mm  50.800 mm  13.204 mm\n",
       "4   50.800 mm  40.320 mm  10.480 mm\n",
       "5   40.320 mm  32.002 mm   8.318 mm\n",
       "6   32.002 mm  25.400 mm   6.602 mm"
      ]
     },
     "execution_count": 7,
     "metadata": {},
     "output_type": "execute_result"
    }
   ],
   "source": [
    "info['H Delta'] = info['H Entrada'] - info['H Saída']\n",
    "\n",
    "info"
   ]
  },
  {
   "cell_type": "markdown",
   "metadata": {},
   "source": [
    "### Definindo grandezas de contato:"
   ]
  },
  {
   "cell_type": "markdown",
   "metadata": {},
   "source": [
    "Para definir o raio de cada rolo presente em cada gaiola:"
   ]
  },
  {
   "cell_type": "code",
   "execution_count": 8,
   "metadata": {},
   "outputs": [],
   "source": [
    "Delta_h_1 = info['H Delta'].iloc[0]\n",
    "Delta_h_2 = info['H Delta'].iloc[1]\n",
    "Delta_h_3 = info['H Delta'].iloc[2]\n",
    "Delta_h_4 = info['H Delta'].iloc[3]\n",
    "Delta_h_5 = info['H Delta'].iloc[4]\n",
    "Delta_h_6 = info['H Delta'].iloc[5]"
   ]
  },
  {
   "cell_type": "code",
   "execution_count": 9,
   "metadata": {},
   "outputs": [
    {
     "data": {
      "text/latex": [
       "\\[\n",
       "\\begin{aligned}\n",
       "Temp_{processo} &= 900\\;\\;\\textrm{(graus celsius)}\n",
       "\\\\[10pt]\n",
       "\\mu &= 0.8 \\cdot \\left( 1.05 - 0.0005 \\cdot Temp_{processo} \\right) \\\\&= 0.8 \\cdot \\left( 1.05 - 0.0005 \\cdot 900 \\right) \\\\&= 0.48\\\\\n",
       "\\\\[10pt]\n",
       "CritSeg &= 1.2\\;\n",
       "\\end{aligned}\n",
       "\\]"
      ],
      "text/plain": [
       "<IPython.core.display.Latex object>"
      ]
     },
     "metadata": {},
     "output_type": "display_data"
    }
   ],
   "source": [
    "%%render\n",
    "#long\n",
    "\n",
    "Temp_processo = 900 #graus celsius \n",
    "\n",
    "mu = 0.8*(1.05-0.0005*Temp_processo)\n",
    "\n",
    "CritSeg = 1.2"
   ]
  },
  {
   "cell_type": "code",
   "execution_count": 10,
   "metadata": {},
   "outputs": [
    {
     "data": {
      "text/latex": [
       "\\[\n",
       "\\begin{aligned}\n",
       "Raio_{1} &= CritSeg \\cdot \\frac{ \\Delta_{h_{1}} }{ \\left( \\sin{ \\left( \\operatorname{arctan} \\left( \\mu \\right) \\right) } \\right) ^{ 2 } } = 1.2 \\cdot \\frac{ 20.960\\ \\text{mm} }{ \\left( \\sin{ \\left( \\operatorname{arctan} \\left( 0.48 \\right) \\right) } \\right) ^{ 2 } } &= 134.319\\ \\text{mm}\n",
       "\\\\[10pt]\n",
       "Raio_{2} &= CritSeg \\cdot \\frac{ \\Delta_{h_{2}} }{ \\left( \\sin{ \\left( \\operatorname{arctan} \\left( \\mu \\right) \\right) } \\right) ^{ 2 } } = 1.2 \\cdot \\frac{ 16.636\\ \\text{mm} }{ \\left( \\sin{ \\left( \\operatorname{arctan} \\left( 0.48 \\right) \\right) } \\right) ^{ 2 } } &= 106.609\\ \\text{mm}\n",
       "\\\\[10pt]\n",
       "Raio_{3} &= CritSeg \\cdot \\frac{ \\Delta_{h_{3}} }{ \\left( \\sin{ \\left( \\operatorname{arctan} \\left( \\mu \\right) \\right) } \\right) ^{ 2 } } = 1.2 \\cdot \\frac{ 13.204\\ \\text{mm} }{ \\left( \\sin{ \\left( \\operatorname{arctan} \\left( 0.48 \\right) \\right) } \\right) ^{ 2 } } &= 84.616\\ \\text{mm}\n",
       "\\\\[10pt]\n",
       "Raio_{4} &= CritSeg \\cdot \\frac{ \\Delta_{h_{4}} }{ \\left( \\sin{ \\left( \\operatorname{arctan} \\left( \\mu \\right) \\right) } \\right) ^{ 2 } } = 1.2 \\cdot \\frac{ 10.480\\ \\text{mm} }{ \\left( \\sin{ \\left( \\operatorname{arctan} \\left( 0.48 \\right) \\right) } \\right) ^{ 2 } } &= 67.159\\ \\text{mm}\n",
       "\\\\[10pt]\n",
       "Raio_{5} &= CritSeg \\cdot \\frac{ \\Delta_{h_{5}} }{ \\left( \\sin{ \\left( \\operatorname{arctan} \\left( \\mu \\right) \\right) } \\right) ^{ 2 } } = 1.2 \\cdot \\frac{ 8.318\\ \\text{mm} }{ \\left( \\sin{ \\left( \\operatorname{arctan} \\left( 0.48 \\right) \\right) } \\right) ^{ 2 } } &= 53.304\\ \\text{mm}\n",
       "\\\\[10pt]\n",
       "Raio_{6} &= CritSeg \\cdot \\frac{ \\Delta_{h_{6}} }{ \\left( \\sin{ \\left( \\operatorname{arctan} \\left( \\mu \\right) \\right) } \\right) ^{ 2 } } = 1.2 \\cdot \\frac{ 6.602\\ \\text{mm} }{ \\left( \\sin{ \\left( \\operatorname{arctan} \\left( 0.48 \\right) \\right) } \\right) ^{ 2 } } &= 42.308\\ \\text{mm}\n",
       "\\end{aligned}\n",
       "\\]"
      ],
      "text/plain": [
       "<IPython.core.display.Latex object>"
      ]
     },
     "metadata": {},
     "output_type": "display_data"
    }
   ],
   "source": [
    "%%render\n",
    "#short\n",
    "\n",
    "Raio_1 = CritSeg * Delta_h_1/((sin(arctan(mu)))**2)\n",
    "\n",
    "Raio_2 = CritSeg * Delta_h_2/((sin(arctan(mu)))**2)\n",
    "\n",
    "Raio_3 = CritSeg * Delta_h_3/((sin(arctan(mu)))**2)\n",
    "\n",
    "Raio_4 = CritSeg * Delta_h_4/((sin(arctan(mu)))**2)\n",
    "\n",
    "Raio_5 = CritSeg * Delta_h_5/((sin(arctan(mu)))**2)\n",
    "\n",
    "Raio_6 = CritSeg * Delta_h_6/((sin(arctan(mu)))**2)"
   ]
  },
  {
   "cell_type": "markdown",
   "metadata": {},
   "source": [
    "E o arco de contato entre o rolo e a chapa:"
   ]
  },
  {
   "cell_type": "code",
   "execution_count": 11,
   "metadata": {},
   "outputs": [
    {
     "data": {
      "text/latex": [
       "\\[\n",
       "\\begin{aligned}\n",
       "l_{d_{1}} &= \\left( Raio_{1} \\cdot \\Delta_{h_{1}} \\right) ^{ 0.5 } \\\\&= \\left( 134.319\\ \\text{mm} \\cdot 20.960\\ \\text{mm} \\right) ^{ 0.5 } \\\\&= 53.060\\ \\text{mm}\\\\\n",
       "\\\\[10pt]\n",
       "l_{d_{2}} &= \\left( Raio_{2} \\cdot \\Delta_{h_{2}} \\right) ^{ 0.5 } \\\\&= \\left( 106.609\\ \\text{mm} \\cdot 16.636\\ \\text{mm} \\right) ^{ 0.5 } \\\\&= 42.113\\ \\text{mm}\\\\\n",
       "\\\\[10pt]\n",
       "l_{d_{3}} &= \\left( Raio_{3} \\cdot \\Delta_{h_{3}} \\right) ^{ 0.5 } \\\\&= \\left( 84.616\\ \\text{mm} \\cdot 13.204\\ \\text{mm} \\right) ^{ 0.5 } \\\\&= 33.425\\ \\text{mm}\\\\\n",
       "\\\\[10pt]\n",
       "l_{d_{4}} &= \\left( Raio_{4} \\cdot \\Delta_{h_{4}} \\right) ^{ 0.5 } \\\\&= \\left( 67.159\\ \\text{mm} \\cdot 10.480\\ \\text{mm} \\right) ^{ 0.5 } \\\\&= 26.530\\ \\text{mm}\\\\\n",
       "\\\\[10pt]\n",
       "l_{d_{5}} &= \\left( Raio_{5} \\cdot \\Delta_{h_{5}} \\right) ^{ 0.5 } \\\\&= \\left( 53.304\\ \\text{mm} \\cdot 8.318\\ \\text{mm} \\right) ^{ 0.5 } \\\\&= 21.057\\ \\text{mm}\\\\\n",
       "\\\\[10pt]\n",
       "l_{d_{6}} &= \\left( Raio_{6} \\cdot \\Delta_{h_{6}} \\right) ^{ 0.5 } \\\\&= \\left( 42.308\\ \\text{mm} \\cdot 6.602\\ \\text{mm} \\right) ^{ 0.5 } \\\\&= 16.713\\ \\text{mm}\\\\\n",
       "\\end{aligned}\n",
       "\\]"
      ],
      "text/plain": [
       "<IPython.core.display.Latex object>"
      ]
     },
     "metadata": {},
     "output_type": "display_data"
    }
   ],
   "source": [
    "%%render\n",
    "#long\n",
    "\n",
    "l_d_1 = (Raio_1*Delta_h_1)**0.5\n",
    "l_d_2 = (Raio_2*Delta_h_2)**0.5\n",
    "l_d_3 = (Raio_3*Delta_h_3)**0.5\n",
    "l_d_4 = (Raio_4*Delta_h_4)**0.5\n",
    "l_d_5 = (Raio_5*Delta_h_5)**0.5\n",
    "l_d_6 = (Raio_6*Delta_h_6)**0.5\n"
   ]
  },
  {
   "cell_type": "markdown",
   "metadata": {},
   "source": [
    "Como o exercício lida com conformação a quente, a variação de espessura da chapa ao longo do processo não deve ser ignorada. \n",
    "\n",
    "O valor deve ser obtido para cada etapa:"
   ]
  },
  {
   "cell_type": "code",
   "execution_count": 12,
   "metadata": {},
   "outputs": [
    {
     "data": {
      "text/latex": [
       "\\[\n",
       "\\begin{aligned}\n",
       "b_{i_{1}} &= 4 \\cdot 25.4 \\cdot mm \\\\&= 4 \\cdot 25.4 \\cdot mm \\\\&= 101.600\\ \\text{mm}\\\\\n",
       "\\\\[10pt]\n",
       "Temp_{ref} &= 1000\\;\\;\\textrm{(agora em K)}\n",
       "\\\\[10pt]\n",
       "Temp_{proc} &= 1173\\;\\;\\textrm{(agora em K)}\n",
       "\\\\[10pt]\n",
       "C_{b\\mu} &= \\frac{ Temp_{ref} }{ Temp_{proc} } \\\\&= \\frac{ 1000 }{ 1173 } \\\\&= 0.853\\\\\n",
       "\\end{aligned}\n",
       "\\]"
      ],
      "text/plain": [
       "<IPython.core.display.Latex object>"
      ]
     },
     "metadata": {},
     "output_type": "display_data"
    }
   ],
   "source": [
    "%%render\n",
    "#long\n",
    "\n",
    "b_i_1 = 4*25.4*mm\n",
    "\n",
    "Temp_ref = 1000 #agora em K\n",
    "Temp_proc = (900 + 273) #agora em K\n",
    "\n",
    "C_bmu = Temp_ref/Temp_proc"
   ]
  },
  {
   "cell_type": "code",
   "execution_count": 13,
   "metadata": {},
   "outputs": [
    {
     "data": {
      "text/latex": [
       "\\[\n",
       "\\begin{aligned}\n",
       "\\phi_{larg_{1}} &= - \\phi_{parcial_{h}} \\cdot \\left( e \\right) ^{ \\left( - C_{b\\mu} \\cdot \\left( \\frac{ b_{i_{1}} }{ l_{d_{1}} } \\right) \\right) } \\\\&= - -0.231 \\cdot \\left( 2.718 \\right) ^{ \\left( - 0.853 \\cdot \\left( \\frac{ 101.600\\ \\text{mm} }{ 53.060\\ \\text{mm} } \\right) \\right) } \\\\&= 0.045\\\\\n",
       "\\\\[10pt]\n",
       "b_{f_{1}} &= b_{i_{1}} \\cdot \\left( e \\right) ^{ \\phi_{larg_{1}} } \\\\&= 101.600\\ \\text{mm} \\cdot \\left( 2.718 \\right) ^{ 0.045 } \\\\&= 106.293\\ \\text{mm}\\\\\n",
       "\\\\[10pt]\n",
       "b_{i_{2}} &= 106.293\\ \\text{mm}\\;\n",
       "\\\\[10pt]\n",
       "\\phi_{larg_{2}} &= - \\phi_{parcial_{h}} \\cdot \\left( e \\right) ^{ \\left( - C_{b\\mu} \\cdot \\left( \\frac{ b_{i_{2}} }{ l_{d_{2}} } \\right) \\right) } \\\\&= - -0.231 \\cdot \\left( 2.718 \\right) ^{ \\left( - 0.853 \\cdot \\left( \\frac{ 106.293\\ \\text{mm} }{ 42.113\\ \\text{mm} } \\right) \\right) } \\\\&= 0.027\\\\\n",
       "\\\\[10pt]\n",
       "b_{f_{2}} &= b_{i_{2}} \\cdot \\left( e \\right) ^{ \\phi_{larg_{2}} } \\\\&= 106.293\\ \\text{mm} \\cdot \\left( 2.718 \\right) ^{ 0.027 } \\\\&= 109.188\\ \\text{mm}\\\\\n",
       "\\\\[10pt]\n",
       "b_{i_{3}} &= 109.188\\ \\text{mm}\\;\n",
       "\\\\[10pt]\n",
       "\\phi_{larg_{3}} &= - \\phi_{parcial_{h}} \\cdot \\left( e \\right) ^{ \\left( - C_{b\\mu} \\cdot \\left( \\frac{ b_{i_{3}} }{ l_{d_{3}} } \\right) \\right) } \\\\&= - -0.231 \\cdot \\left( 2.718 \\right) ^{ \\left( - 0.853 \\cdot \\left( \\frac{ 109.188\\ \\text{mm} }{ 33.425\\ \\text{mm} } \\right) \\right) } \\\\&= 0.014\\\\\n",
       "\\\\[10pt]\n",
       "b_{f_{3}} &= b_{i_{3}} \\cdot \\left( e \\right) ^{ \\phi_{larg_{3}} } \\\\&= 109.188\\ \\text{mm} \\cdot \\left( 2.718 \\right) ^{ 0.014 } \\\\&= 110.757\\ \\text{mm}\\\\\n",
       "\\\\[10pt]\n",
       "b_{i_{4}} &= 110.757\\ \\text{mm}\\;\n",
       "\\\\[10pt]\n",
       "\\phi_{larg_{4}} &= - \\phi_{parcial_{h}} \\cdot \\left( e \\right) ^{ \\left( - C_{b\\mu} \\cdot \\left( \\frac{ b_{i_{4}} }{ l_{d_{4}} } \\right) \\right) } \\\\&= - -0.231 \\cdot \\left( 2.718 \\right) ^{ \\left( - 0.853 \\cdot \\left( \\frac{ 110.757\\ \\text{mm} }{ 26.530\\ \\text{mm} } \\right) \\right) } \\\\&= 0.007\\\\\n",
       "\\\\[10pt]\n",
       "b_{f_{4}} &= b_{i_{4}} \\cdot \\left( e \\right) ^{ \\phi_{larg_{4}} } \\\\&= 110.757\\ \\text{mm} \\cdot \\left( 2.718 \\right) ^{ 0.007 } \\\\&= 111.487\\ \\text{mm}\\\\\n",
       "\\\\[10pt]\n",
       "b_{i_{5}} &= 111.487\\ \\text{mm}\\;\n",
       "\\\\[10pt]\n",
       "\\phi_{larg_{5}} &= - \\phi_{parcial_{h}} \\cdot \\left( e \\right) ^{ \\left( - C_{b\\mu} \\cdot \\left( \\frac{ b_{i_{5}} }{ l_{d_{5}} } \\right) \\right) } \\\\&= - -0.231 \\cdot \\left( 2.718 \\right) ^{ \\left( - 0.853 \\cdot \\left( \\frac{ 111.487\\ \\text{mm} }{ 21.057\\ \\text{mm} } \\right) \\right) } \\\\&= 0.003\\\\\n",
       "\\\\[10pt]\n",
       "b_{f_{5}} &= b_{i_{5}} \\cdot \\left( e \\right) ^{ \\phi_{larg_{5}} } \\\\&= 111.487\\ \\text{mm} \\cdot \\left( 2.718 \\right) ^{ 0.003 } \\\\&= 111.770\\ \\text{mm}\\\\\n",
       "\\\\[10pt]\n",
       "b_{i_{6}} &= 111.770\\ \\text{mm}\\;\n",
       "\\\\[10pt]\n",
       "\\phi_{larg_{6}} &= - \\phi_{parcial_{h}} \\cdot \\left( e \\right) ^{ \\left( - C_{b\\mu} \\cdot \\left( \\frac{ b_{i_{6}} }{ l_{d_{6}} } \\right) \\right) } \\\\&= - -0.231 \\cdot \\left( 2.718 \\right) ^{ \\left( - 0.853 \\cdot \\left( \\frac{ 111.770\\ \\text{mm} }{ 16.713\\ \\text{mm} } \\right) \\right) } \\\\&= 0.001\\\\\n",
       "\\\\[10pt]\n",
       "b_{f_{6}} &= b_{i_{6}} \\cdot \\left( e \\right) ^{ \\phi_{larg_{6}} } \\\\&= 111.770\\ \\text{mm} \\cdot \\left( 2.718 \\right) ^{ 0.001 } \\\\&= 111.856\\ \\text{mm}\\\\\n",
       "\\end{aligned}\n",
       "\\]"
      ],
      "text/plain": [
       "<IPython.core.display.Latex object>"
      ]
     },
     "metadata": {},
     "output_type": "display_data"
    }
   ],
   "source": [
    "%%render\n",
    "#long\n",
    "\n",
    "phi_larg_1 = -phi_parcial_h*e**(-C_bmu*(b_i_1/l_d_1))\n",
    "\n",
    "b_f_1 = b_i_1*e**phi_larg_1\n",
    "\n",
    "#aaaaaaaaaaaaaaaaaaaaaaaaa\n",
    "\n",
    "b_i_2 = b_f_1\n",
    "\n",
    "phi_larg_2 = -phi_parcial_h*e**(-C_bmu*(b_i_2/l_d_2))\n",
    "\n",
    "b_f_2 = b_i_2*e**phi_larg_2\n",
    "\n",
    "#aaaaaaaaaaaaaaaaaaaaaaaaa\n",
    "\n",
    "b_i_3 = b_f_2\n",
    "\n",
    "phi_larg_3 = -phi_parcial_h*e**(-C_bmu*(b_i_3/l_d_3))\n",
    "\n",
    "b_f_3 = b_i_3*e**phi_larg_3\n",
    "\n",
    "#aaaaaaaaaaaaaaaaaaaaaaaaa\n",
    "\n",
    "b_i_4 = b_f_3\n",
    "\n",
    "phi_larg_4 = -phi_parcial_h*e**(-C_bmu*(b_i_4/l_d_4))\n",
    "\n",
    "b_f_4 = b_i_4*e**phi_larg_4\n",
    "\n",
    "#aaaaaaaaaaaaaaaaaaaaaaaaa\n",
    "\n",
    "b_i_5 = b_f_4\n",
    "\n",
    "phi_larg_5 = -phi_parcial_h*e**(-C_bmu*(b_i_5/l_d_5))\n",
    "\n",
    "b_f_5 = b_i_5*e**phi_larg_5\n",
    "\n",
    "#aaaaaaaaaaaaaaaaaaaaaaaaa\n",
    "\n",
    "b_i_6 = b_f_5\n",
    "\n",
    "phi_larg_6 = -phi_parcial_h*e**(-C_bmu*(b_i_6/l_d_6))\n",
    "\n",
    "b_f_6 = b_i_6*e**phi_larg_6"
   ]
  },
  {
   "cell_type": "markdown",
   "metadata": {},
   "source": [
    "Utilizaremos a média entre a entrada e a saída para os cálculos futuros:"
   ]
  },
  {
   "cell_type": "code",
   "execution_count": 14,
   "metadata": {},
   "outputs": [
    {
     "data": {
      "text/latex": [
       "\\[\n",
       "\\begin{aligned}\n",
       "b_{m_{1}} &= \\frac{ b_{i_{1}} + b_{f_{1}} }{ 2 } = \\frac{ 101.600\\ \\text{mm} + 106.293\\ \\text{mm} }{ 2 } &= 103.947\\ \\text{mm}\n",
       "\\\\[10pt]\n",
       "b_{m_{2}} &= \\frac{ b_{i_{2}} + b_{f_{2}} }{ 2 } = \\frac{ 106.293\\ \\text{mm} + 109.188\\ \\text{mm} }{ 2 } &= 107.741\\ \\text{mm}\n",
       "\\\\[10pt]\n",
       "b_{m_{3}} &= \\frac{ b_{i_{3}} + b_{f_{3}} }{ 2 } = \\frac{ 109.188\\ \\text{mm} + 110.757\\ \\text{mm} }{ 2 } &= 109.972\\ \\text{mm}\n",
       "\\\\[10pt]\n",
       "b_{m_{4}} &= \\frac{ b_{i_{4}} + b_{f_{4}} }{ 2 } = \\frac{ 110.757\\ \\text{mm} + 111.487\\ \\text{mm} }{ 2 } &= 111.122\\ \\text{mm}\n",
       "\\\\[10pt]\n",
       "b_{m_{5}} &= \\frac{ b_{i_{5}} + b_{f_{5}} }{ 2 } = \\frac{ 111.487\\ \\text{mm} + 111.770\\ \\text{mm} }{ 2 } &= 111.629\\ \\text{mm}\n",
       "\\\\[10pt]\n",
       "b_{m_{6}} &= \\frac{ b_{i_{6}} + b_{f_{6}} }{ 2 } = \\frac{ 111.770\\ \\text{mm} + 111.856\\ \\text{mm} }{ 2 } &= 111.813\\ \\text{mm}\n",
       "\\end{aligned}\n",
       "\\]"
      ],
      "text/plain": [
       "<IPython.core.display.Latex object>"
      ]
     },
     "metadata": {},
     "output_type": "display_data"
    }
   ],
   "source": [
    "%%render\n",
    "#short\n",
    "\n",
    "b_m_1 = (b_i_1 + b_f_1)/2\n",
    "b_m_2 = (b_i_2 + b_f_2)/2\n",
    "b_m_3 = (b_i_3 + b_f_3)/2\n",
    "b_m_4 = (b_i_4 + b_f_4)/2\n",
    "b_m_5 = (b_i_5 + b_f_5)/2\n",
    "b_m_6 = (b_i_6 + b_f_6)/2"
   ]
  },
  {
   "cell_type": "markdown",
   "metadata": {},
   "source": [
    "E agora, é possível calcular a área de contato $A_c$:"
   ]
  },
  {
   "cell_type": "code",
   "execution_count": 15,
   "metadata": {},
   "outputs": [
    {
     "data": {
      "text/latex": [
       "\\[\n",
       "\\begin{aligned}\n",
       "A_{c_{1}} &= b_{m_{1}} \\cdot l_{d_{1}} = 103.947\\ \\text{mm} \\cdot 53.060\\ \\text{mm} &= 5515.376\\ \\text{mm}^{2.0}\n",
       "\\\\[10pt]\n",
       "A_{c_{2}} &= b_{m_{2}} \\cdot l_{d_{2}} = 107.741\\ \\text{mm} \\cdot 42.113\\ \\text{mm} &= 4537.335\\ \\text{mm}^{2.0}\n",
       "\\\\[10pt]\n",
       "A_{c_{3}} &= b_{m_{3}} \\cdot l_{d_{3}} = 109.972\\ \\text{mm} \\cdot 33.425\\ \\text{mm} &= 3675.877\\ \\text{mm}^{2.0}\n",
       "\\\\[10pt]\n",
       "A_{c_{4}} &= b_{m_{4}} \\cdot l_{d_{4}} = 111.122\\ \\text{mm} \\cdot 26.530\\ \\text{mm} &= 2948.049\\ \\text{mm}^{2.0}\n",
       "\\\\[10pt]\n",
       "A_{c_{5}} &= b_{m_{5}} \\cdot l_{d_{5}} = 111.629\\ \\text{mm} \\cdot 21.057\\ \\text{mm} &= 2350.538\\ \\text{mm}^{2.0}\n",
       "\\\\[10pt]\n",
       "A_{c_{6}} &= b_{m_{6}} \\cdot l_{d_{6}} = 111.813\\ \\text{mm} \\cdot 16.713\\ \\text{mm} &= 1868.706\\ \\text{mm}^{2.0}\n",
       "\\end{aligned}\n",
       "\\]"
      ],
      "text/plain": [
       "<IPython.core.display.Latex object>"
      ]
     },
     "metadata": {},
     "output_type": "display_data"
    }
   ],
   "source": [
    "%%render\n",
    "#short\n",
    "\n",
    "A_c_1 = b_m_1*l_d_1\n",
    "A_c_2 = b_m_2*l_d_2\n",
    "A_c_3 = b_m_3*l_d_3\n",
    "A_c_4 = b_m_4*l_d_4\n",
    "A_c_5 = b_m_5*l_d_5\n",
    "A_c_6 = b_m_6*l_d_6"
   ]
  },
  {
   "cell_type": "markdown",
   "metadata": {},
   "source": [
    "Atualizando a tabela de valores importantes:"
   ]
  },
  {
   "cell_type": "code",
   "execution_count": 16,
   "metadata": {},
   "outputs": [
    {
     "data": {
      "text/html": [
       "<div>\n",
       "<style scoped>\n",
       "    .dataframe tbody tr th:only-of-type {\n",
       "        vertical-align: middle;\n",
       "    }\n",
       "\n",
       "    .dataframe tbody tr th {\n",
       "        vertical-align: top;\n",
       "    }\n",
       "\n",
       "    .dataframe thead th {\n",
       "        text-align: right;\n",
       "    }\n",
       "</style>\n",
       "<table border=\"1\" class=\"dataframe\">\n",
       "  <thead>\n",
       "    <tr style=\"text-align: right;\">\n",
       "      <th></th>\n",
       "      <th>H Entrada</th>\n",
       "      <th>H Saída</th>\n",
       "      <th>H Delta</th>\n",
       "      <th>Raio</th>\n",
       "      <th>B Entrada</th>\n",
       "      <th>B Saída</th>\n",
       "      <th>B Média</th>\n",
       "      <th>Largura de Contato</th>\n",
       "      <th>Area de Contato</th>\n",
       "    </tr>\n",
       "  </thead>\n",
       "  <tbody>\n",
       "    <tr>\n",
       "      <th>1</th>\n",
       "      <td>101.600 mm</td>\n",
       "      <td>80.640 mm</td>\n",
       "      <td>20.960 mm</td>\n",
       "      <td>134.319 mm</td>\n",
       "      <td>101.600 mm</td>\n",
       "      <td>106.293 mm</td>\n",
       "      <td>103.947 mm</td>\n",
       "      <td>53.060 mm</td>\n",
       "      <td>5515.376 mm²'⁰</td>\n",
       "    </tr>\n",
       "    <tr>\n",
       "      <th>2</th>\n",
       "      <td>80.640 mm</td>\n",
       "      <td>64.004 mm</td>\n",
       "      <td>16.636 mm</td>\n",
       "      <td>106.609 mm</td>\n",
       "      <td>106.293 mm</td>\n",
       "      <td>109.188 mm</td>\n",
       "      <td>107.741 mm</td>\n",
       "      <td>42.113 mm</td>\n",
       "      <td>4537.335 mm²'⁰</td>\n",
       "    </tr>\n",
       "    <tr>\n",
       "      <th>3</th>\n",
       "      <td>64.004 mm</td>\n",
       "      <td>50.800 mm</td>\n",
       "      <td>13.204 mm</td>\n",
       "      <td>84.616 mm</td>\n",
       "      <td>109.188 mm</td>\n",
       "      <td>110.757 mm</td>\n",
       "      <td>109.972 mm</td>\n",
       "      <td>33.425 mm</td>\n",
       "      <td>3675.877 mm²'⁰</td>\n",
       "    </tr>\n",
       "    <tr>\n",
       "      <th>4</th>\n",
       "      <td>50.800 mm</td>\n",
       "      <td>40.320 mm</td>\n",
       "      <td>10.480 mm</td>\n",
       "      <td>67.159 mm</td>\n",
       "      <td>110.757 mm</td>\n",
       "      <td>111.487 mm</td>\n",
       "      <td>111.122 mm</td>\n",
       "      <td>26.530 mm</td>\n",
       "      <td>2948.049 mm²'⁰</td>\n",
       "    </tr>\n",
       "    <tr>\n",
       "      <th>5</th>\n",
       "      <td>40.320 mm</td>\n",
       "      <td>32.002 mm</td>\n",
       "      <td>8.318 mm</td>\n",
       "      <td>53.304 mm</td>\n",
       "      <td>111.487 mm</td>\n",
       "      <td>111.770 mm</td>\n",
       "      <td>111.629 mm</td>\n",
       "      <td>21.057 mm</td>\n",
       "      <td>2350.538 mm²'⁰</td>\n",
       "    </tr>\n",
       "    <tr>\n",
       "      <th>6</th>\n",
       "      <td>32.002 mm</td>\n",
       "      <td>25.400 mm</td>\n",
       "      <td>6.602 mm</td>\n",
       "      <td>42.308 mm</td>\n",
       "      <td>111.770 mm</td>\n",
       "      <td>111.856 mm</td>\n",
       "      <td>111.813 mm</td>\n",
       "      <td>16.713 mm</td>\n",
       "      <td>1868.706 mm²'⁰</td>\n",
       "    </tr>\n",
       "  </tbody>\n",
       "</table>\n",
       "</div>"
      ],
      "text/plain": [
       "    H Entrada    H Saída    H Delta        Raio   B Entrada     B Saída  \\\n",
       "1  101.600 mm  80.640 mm  20.960 mm  134.319 mm  101.600 mm  106.293 mm   \n",
       "2   80.640 mm  64.004 mm  16.636 mm  106.609 mm  106.293 mm  109.188 mm   \n",
       "3   64.004 mm  50.800 mm  13.204 mm   84.616 mm  109.188 mm  110.757 mm   \n",
       "4   50.800 mm  40.320 mm  10.480 mm   67.159 mm  110.757 mm  111.487 mm   \n",
       "5   40.320 mm  32.002 mm   8.318 mm   53.304 mm  111.487 mm  111.770 mm   \n",
       "6   32.002 mm  25.400 mm   6.602 mm   42.308 mm  111.770 mm  111.856 mm   \n",
       "\n",
       "      B Média Largura de Contato Area de Contato  \n",
       "1  103.947 mm          53.060 mm  5515.376 mm²'⁰  \n",
       "2  107.741 mm          42.113 mm  4537.335 mm²'⁰  \n",
       "3  109.972 mm          33.425 mm  3675.877 mm²'⁰  \n",
       "4  111.122 mm          26.530 mm  2948.049 mm²'⁰  \n",
       "5  111.629 mm          21.057 mm  2350.538 mm²'⁰  \n",
       "6  111.813 mm          16.713 mm  1868.706 mm²'⁰  "
      ]
     },
     "execution_count": 16,
     "metadata": {},
     "output_type": "execute_result"
    }
   ],
   "source": [
    "info['Raio'] = [Raio_1,Raio_2,Raio_3,Raio_4,Raio_5,Raio_6]\n",
    "info['B Entrada'] = [b_i_1,b_i_2,b_i_3,b_i_4,b_i_5,b_i_6]\n",
    "info['B Saída'] = [b_f_1,b_f_2,b_f_3,b_f_4,b_f_5,b_f_6]\n",
    "info['B Média'] = [b_m_1,b_m_2,b_m_3,b_m_4,b_m_5,b_m_6,]\n",
    "info['Largura de Contato'] = [l_d_1,l_d_2,l_d_3,l_d_4,l_d_5,l_d_6]\n",
    "info['Area de Contato'] = [A_c_1,A_c_2,A_c_3,A_c_4,A_c_5,A_c_6]\n",
    "\n",
    "info"
   ]
  },
  {
   "cell_type": "markdown",
   "metadata": {},
   "source": [
    "### O comprimento varia de etapa para etapa, e sua deformação pode ser deduzida da equação de conservação de massa:"
   ]
  },
  {
   "cell_type": "code",
   "execution_count": 17,
   "metadata": {},
   "outputs": [
    {
     "data": {
      "text/latex": [
       "\\[\n",
       "\\begin{aligned}\n",
       "\\phi_{comp_{1}} &= - \\phi_{larg_{1}} - \\phi_{parcial_{h}} = - 0.045 - -0.231 &= 0.186\n",
       "\\\\[10pt]\n",
       "\\phi_{comp_{2}} &= - \\phi_{larg_{2}} - \\phi_{parcial_{h}} = - 0.027 - -0.231 &= 0.204\n",
       "\\\\[10pt]\n",
       "\\phi_{comp_{3}} &= - \\phi_{larg_{3}} - \\phi_{parcial_{h}} = - 0.014 - -0.231 &= 0.217\n",
       "\\\\[10pt]\n",
       "\\phi_{comp_{4}} &= - \\phi_{larg_{4}} - \\phi_{parcial_{h}} = - 0.007 - -0.231 &= 0.224\n",
       "\\\\[10pt]\n",
       "\\phi_{comp_{5}} &= - \\phi_{larg_{5}} - \\phi_{parcial_{h}} = - 0.003 - -0.231 &= 0.229\n",
       "\\\\[10pt]\n",
       "\\phi_{comp_{6}} &= - \\phi_{larg_{6}} - \\phi_{parcial_{h}} = - 0.001 - -0.231 &= 0.23\n",
       "\\end{aligned}\n",
       "\\]"
      ],
      "text/plain": [
       "<IPython.core.display.Latex object>"
      ]
     },
     "metadata": {},
     "output_type": "display_data"
    }
   ],
   "source": [
    "%%render \n",
    "#short 8 \n",
    "\n",
    "phi_comp_1 = -phi_larg_1 - phi_parcial_h\n",
    "phi_comp_2 = -phi_larg_2 - phi_parcial_h\n",
    "phi_comp_3 = -phi_larg_3 - phi_parcial_h\n",
    "phi_comp_4 = -phi_larg_4 - phi_parcial_h\n",
    "phi_comp_5 = -phi_larg_5 - phi_parcial_h\n",
    "phi_comp_6 = -phi_larg_6 - phi_parcial_h"
   ]
  },
  {
   "cell_type": "markdown",
   "metadata": {},
   "source": [
    "Não foi pedido pelo exercício, mas podemos estimar qual comprimento final da barra ao fim do processo:"
   ]
  },
  {
   "cell_type": "code",
   "execution_count": 18,
   "metadata": {},
   "outputs": [
    {
     "data": {
      "text/latex": [
       "\\[\n",
       "\\begin{aligned}\n",
       "l_{i} &= 1 \\cdot m \\\\&= 1 \\cdot m \\\\&= 1.000\\ \\text{m}\\\\\n",
       "\\\\[10pt]\n",
       "\\phi_{comp_{total}} &= \\operatorname{sum} \\left( \\left( \\phi_{comp_{1}} , \\phi_{comp_{2}} , \\phi_{comp_{3}} , \\phi_{comp_{4}} , \\phi_{comp_{5}} , \\phi_{comp_{6}} \\right) \\right) \\\\&= \\operatorname{sum} \\left( \\left( 0.186 , 0.204 , 0.217 , 0.224 , 0.229 , 0.23 \\right) \\right) \\\\&= 1.29\\\\\n",
       "\\\\[10pt]\n",
       "l_{f} &= l_{i} \\cdot \\left( e \\right) ^{ \\phi_{comp_{total}} } \\\\&= 1.000\\ \\text{m} \\cdot \\left( 2.718 \\right) ^{ 1.29 } \\\\&= 3.633\\ \\text{m}\\\\\n",
       "\\end{aligned}\n",
       "\\]"
      ],
      "text/plain": [
       "<IPython.core.display.Latex object>"
      ]
     },
     "metadata": {},
     "output_type": "display_data"
    }
   ],
   "source": [
    "%%render\n",
    "#long\n",
    "\n",
    "l_i = 1*m\n",
    "\n",
    "phi_comp_total = sum((phi_comp_1,phi_comp_2,phi_comp_3,phi_comp_4,phi_comp_5,phi_comp_6))\n",
    "\n",
    "l_f = l_i*e**phi_comp_total"
   ]
  },
  {
   "cell_type": "markdown",
   "metadata": {},
   "source": [
    "### Obtendo a velocidade angular $\\omega$ de cada rolo \n",
    "\n",
    "O processo consiste em estimar o tempo como constate e as velocidades flutuando ao redor deste valor.\n",
    "\n",
    "O único valor de $\\omega$ que o exercício fornece é  $\\omega_1=50RPM$, e é através deste que o valor de tempo será estimado: "
   ]
  },
  {
   "cell_type": "code",
   "execution_count": 19,
   "metadata": {},
   "outputs": [
    {
     "data": {
      "text/latex": [
       "\\[\n",
       "\\begin{aligned}\n",
       "comprimento &= l_{i} \\cdot \\left( e \\right) ^{ \\phi_{comp_{1}} } \\\\&= 1.000\\ \\text{m} \\cdot \\left( 2.718 \\right) ^{ 0.186 } \\\\&= 1.204\\ \\text{m}\\\\\n",
       "\\\\[10pt]\n",
       "velocidade &= Raio_{1} \\cdot 50 \\cdot 2 \\cdot \\frac{ \\pi }{ 60 } \\cdot \\frac{ 1 }{ s } \\\\&= 134.319\\ \\text{mm} \\cdot 50 \\cdot 2 \\cdot \\frac{ 3.142 }{ 60 } \\cdot \\frac{ 1 }{ s } \\\\&= 0.703\\ \\text{m} \\cdot \\text{s}^{-1}\\\\\n",
       "\\\\[10pt]\n",
       "t &= \\frac{ comprimento }{ velocidade } \\\\&= \\frac{ 1.204\\ \\text{m} }{ 0.703\\ \\text{m} \\cdot \\text{s}^{-1} } \\\\&= 1.712\\ \\text{s}\\\\\n",
       "\\end{aligned}\n",
       "\\]"
      ],
      "text/plain": [
       "<IPython.core.display.Latex object>"
      ]
     },
     "metadata": {},
     "output_type": "display_data"
    }
   ],
   "source": [
    "%%render\n",
    "#long\n",
    "\n",
    "comprimento = l_i*e**phi_comp_1\n",
    "\n",
    "velocidade = Raio_1*50*2*pi/60*1/s\n",
    "\n",
    "t = comprimento/velocidade"
   ]
  },
  {
   "cell_type": "markdown",
   "metadata": {},
   "source": [
    "Isolando $\\omega$ em cada um dos outros estágios:"
   ]
  },
  {
   "cell_type": "code",
   "execution_count": 20,
   "metadata": {},
   "outputs": [
    {
     "data": {
      "text/latex": [
       "\\[\n",
       "\\begin{aligned}\n",
       "\\omega_{2} &= \\frac{ m \\cdot \\left( e \\right) ^{ \\left( \\phi_{comp_{1}} + \\phi_{comp_{2}} \\right) } }{ Raio_{2} \\cdot t } = \\frac{ m \\cdot \\left( 2.718 \\right) ^{ \\left( 0.186 + 0.204 \\right) } }{ 106.609\\ \\text{mm} \\cdot 1.712\\ \\text{s} } &= 8.091\\ \\text{Hz}\n",
       "\\\\[10pt]\n",
       "\\omega_{3} &= \\frac{ m \\cdot \\left( e \\right) ^{ \\left( \\phi_{comp_{1}} + \\phi_{comp_{2}} + \\phi_{comp_{3}} \\right) } }{ Raio_{3} \\cdot t } = \\frac{ m \\cdot \\left( 2.718 \\right) ^{ \\left( 0.186 + 0.204 + 0.217 \\right) } }{ 84.616\\ \\text{mm} \\cdot 1.712\\ \\text{s} } &= 12.662\\ \\text{Hz}\n",
       "\\\\[10pt]\n",
       "\\omega_{4} &= \\frac{ m \\cdot \\left( e \\right) ^{ \\left( \\phi_{comp_{1}} + \\phi_{comp_{2}} + \\phi_{comp_{3}} + \\phi_{comp_{4}} \\right) } }{ Raio_{4} \\cdot t } = \\frac{ m \\cdot \\left( 2.718 \\right) ^{ \\left( 0.186 + 0.204 + 0.217 + 0.224 \\right) } }{ 67.159\\ \\text{mm} \\cdot 1.712\\ \\text{s} } &= 19.968\\ \\text{Hz}\n",
       "\\\\[10pt]\n",
       "\\omega_{5} &= \\frac{ m \\cdot \\left( e \\right) ^{ \\left( \\phi_{comp_{1}} + \\phi_{comp_{2}} + \\phi_{comp_{3}} + \\phi_{comp_{4}} + \\phi_{comp_{5}} \\right) } }{ Raio_{5} \\cdot t } = \\frac{ m \\cdot \\left( 2.718 \\right) ^{ \\left( 0.186 + 0.204 + 0.217 + 0.224 + 0.229 \\right) } }{ 53.304\\ \\text{mm} \\cdot 1.712\\ \\text{s} } &= 31.617\\ \\text{Hz}\n",
       "\\\\[10pt]\n",
       "\\omega_{6} &= \\frac{ m \\cdot \\left( e \\right) ^{ \\left( \\phi_{comp_{1}} + \\phi_{comp_{2}} + \\phi_{comp_{3}} + \\phi_{comp_{4}} + \\phi_{comp_{5}} + \\phi_{comp_{6}} \\right) } }{ Raio_{6} \\cdot t } = \\frac{ m \\cdot \\left( 2.718 \\right) ^{ \\left( 0.186 + 0.204 + 0.217 + 0.224 + 0.229 + 0.23 \\right) } }{ 42.308\\ \\text{mm} \\cdot 1.712\\ \\text{s} } &= 50.151\\ \\text{Hz}\n",
       "\\end{aligned}\n",
       "\\]"
      ],
      "text/plain": [
       "<IPython.core.display.Latex object>"
      ]
     },
     "metadata": {},
     "output_type": "display_data"
    }
   ],
   "source": [
    "%%render\n",
    "#short\n",
    "\n",
    "omega_2 = (m*e**(phi_comp_1+phi_comp_2))/(Raio_2*t)\n",
    "omega_3 = (m*e**(phi_comp_1+phi_comp_2+phi_comp_3))/(Raio_3*t)\n",
    "omega_4 = (m*e**(phi_comp_1+phi_comp_2+phi_comp_3+phi_comp_4))/(Raio_4*t)\n",
    "omega_5 = (m*e**(phi_comp_1+phi_comp_2+phi_comp_3+phi_comp_4+phi_comp_5))/(Raio_5*t)\n",
    "omega_6 = (m*e**(phi_comp_1+phi_comp_2+phi_comp_3+phi_comp_4+phi_comp_5+phi_comp_6))/(Raio_6*t)"
   ]
  },
  {
   "cell_type": "markdown",
   "metadata": {},
   "source": [
    "### A tensão de escoamento $\\sigma_e$, para laminação a quente, é constante:"
   ]
  },
  {
   "cell_type": "code",
   "execution_count": 21,
   "metadata": {},
   "outputs": [
    {
     "data": {
      "text/latex": [
       "\\[\n",
       "\\begin{aligned}\n",
       "Temp_{processo} &= 900\\;\\;\\textrm{(graus celsius)}\n",
       "\\\\[10pt]\n",
       "C_{perc} &= 0.2\\;\\;\\textrm{(pontos percentuais)}\n",
       "\\\\[10pt]\n",
       "Mn_{perc} &= 0.45\\;\\;\\textrm{(pontos percentuais)}\n",
       "\\\\[10pt]\n",
       "Cr_{perc} &= 0\\;\\;\\textrm{(pontos percentuais)}\n",
       "\\\\[10pt]\n",
       "\\sigma_{e_{kgfmm2}} &= \\left( 14 - 0.01 \\cdot Temp_{processo} \\right) \\cdot \\left( 1.4 + C_{perc} + Mn_{perc} + 0.3 \\cdot Cr_{perc} \\right) \\\\&= \\left( 14 - 0.01 \\cdot 900 \\right) \\cdot \\left( 1.4 + 0.2 + 0.45 + 0.3 \\cdot 0 \\right) \\\\&= 10.25\\;\\;\\textrm{(kgf/mm²)}\\\\\n",
       "\\\\[10pt]\n",
       "\\sigma_{e} &= \\sigma_{e_{kgfmm2}} \\cdot 9.81 \\cdot MPa \\\\&= 10.25 \\cdot 9.81 \\cdot MPa \\\\&= 100.553\\ \\text{MPa}\\;\\;\\textrm{(o cálculo é feito em kgf/mm², mas foi transformado para MPa)}\\\\\n",
       "\\end{aligned}\n",
       "\\]"
      ],
      "text/plain": [
       "<IPython.core.display.Latex object>"
      ]
     },
     "metadata": {},
     "output_type": "display_data"
    }
   ],
   "source": [
    "%%render\n",
    "#long\n",
    "\n",
    "Temp_processo=900 #graus celsius\n",
    "\n",
    "C_perc = 0.2 #pontos percentuais\n",
    "\n",
    "Mn_perc = 0.45 #pontos percentuais\n",
    "\n",
    "Cr_perc = 0 #pontos percentuais\n",
    "\n",
    "sigma_e_kgfmm2 = (14 - 0.01*Temp_processo)*(1.4+C_perc+Mn_perc+0.3*Cr_perc) #kgf/mm²\n",
    "\n",
    "sigma_e = sigma_e_kgfmm2*9.81*MPa #o cálculo é feito em kgf/mm², mas foi transformado para MPa"
   ]
  },
  {
   "cell_type": "markdown",
   "metadata": {},
   "source": [
    "### Para chegar na potência, se faz necessário o cálculo das Forças e dos Momentos "
   ]
  },
  {
   "cell_type": "markdown",
   "metadata": {},
   "source": [
    "A força, na laminação a quente, é calculada pela área de contato e pela pressão específica $K_w$.\n",
    "\n",
    "$K_w$ depende de dois novos fatores, a velocidade de deformação $\\dot{\\phi}$ e o coeficiente de plasticidade $\\eta$:"
   ]
  },
  {
   "cell_type": "code",
   "execution_count": 27,
   "metadata": {},
   "outputs": [
    {
     "data": {
      "text/latex": [
       "\\[\n",
       "\\begin{aligned}\n",
       "Temp_{processo} &= 900\\;\\;\\textrm{(graus celsius)}\n",
       "\\\\[10pt]\n",
       "\\eta &= 0.01 \\cdot \\left( 14 - 0.01 \\cdot Temp_{processo} \\right) \\\\&= 0.01 \\cdot \\left( 14 - 0.01 \\cdot 900 \\right) \\\\&= 0.05\\\\\n",
       "\\\\[10pt]\n",
       "\\omega_{1} &= 50 \\cdot 2 \\cdot \\frac{ \\pi }{ 60 } \\cdot \\frac{ 1 }{ s } \\\\&= 50 \\cdot 2 \\cdot \\frac{ 3.142 }{ 60 } \\cdot \\frac{ 1 }{ s } \\\\&= 5.236\\ \\text{Hz}\\\\\n",
       "\\end{aligned}\n",
       "\\]"
      ],
      "text/plain": [
       "<IPython.core.display.Latex object>"
      ]
     },
     "metadata": {},
     "output_type": "display_data"
    }
   ],
   "source": [
    "%%render\n",
    "#long\n",
    "\n",
    "Temp_processo = 900 #graus celsius\n",
    "\n",
    "eta = 0.01*(14-0.01*Temp_processo)\n",
    "\n",
    "omega_1 = 50*2*pi/60*1/s"
   ]
  },
  {
   "cell_type": "code",
   "execution_count": 28,
   "metadata": {},
   "outputs": [
    {
     "data": {
      "text/latex": [
       "\\[\n",
       "\\begin{aligned}\n",
       "\\phi_{dot_{1}} &= \\frac{ 2 \\cdot \\omega_{1} \\cdot Raio_{1} \\cdot \\left( \\frac{ \\Delta_{h_{1}} }{ Raio_{1} } \\right) ^{ 0.5 } }{ h_{i_{1}} + h_{f_{1}} } = \\frac{ 2 \\cdot 5.236\\ \\text{Hz} \\cdot 134.319\\ \\text{mm} \\cdot \\left( \\frac{ 20.960\\ \\text{mm} }{ 134.319\\ \\text{mm} } \\right) ^{ 0.5 } }{ 101.600\\ \\text{mm} + 80.640\\ \\text{mm} } &= 3.049\\ \\text{Hz}\n",
       "\\\\[10pt]\n",
       "\\phi_{dot_{2}} &= \\frac{ 2 \\cdot \\omega_{2} \\cdot Raio_{2} \\cdot \\left( \\frac{ \\Delta_{h_{2}} }{ Raio_{2} } \\right) ^{ 0.5 } }{ h_{i_{2}} + h_{f_{2}} } = \\frac{ 2 \\cdot 8.091\\ \\text{Hz} \\cdot 106.609\\ \\text{mm} \\cdot \\left( \\frac{ 16.636\\ \\text{mm} }{ 106.609\\ \\text{mm} } \\right) ^{ 0.5 } }{ 80.640\\ \\text{mm} + 64.004\\ \\text{mm} } &= 4.712\\ \\text{Hz}\n",
       "\\\\[10pt]\n",
       "\\phi_{dot_{3}} &= \\frac{ 2 \\cdot \\omega_{3} \\cdot Raio_{3} \\cdot \\left( \\frac{ \\Delta_{h_{3}} }{ Raio_{3} } \\right) ^{ 0.5 } }{ h_{i_{3}} + h_{f_{3}} } = \\frac{ 2 \\cdot 12.662\\ \\text{Hz} \\cdot 84.616\\ \\text{mm} \\cdot \\left( \\frac{ 13.204\\ \\text{mm} }{ 84.616\\ \\text{mm} } \\right) ^{ 0.5 } }{ 64.004\\ \\text{mm} + 50.800\\ \\text{mm} } &= 7.373\\ \\text{Hz}\n",
       "\\\\[10pt]\n",
       "\\phi_{dot_{4}} &= \\frac{ 2 \\cdot \\omega_{4} \\cdot Raio_{4} \\cdot \\left( \\frac{ \\Delta_{h_{4}} }{ Raio_{4} } \\right) ^{ 0.5 } }{ h_{i_{4}} + h_{f_{4}} } = \\frac{ 2 \\cdot 19.968\\ \\text{Hz} \\cdot 67.159\\ \\text{mm} \\cdot \\left( \\frac{ 10.480\\ \\text{mm} }{ 67.159\\ \\text{mm} } \\right) ^{ 0.5 } }{ 50.800\\ \\text{mm} + 40.320\\ \\text{mm} } &= 11.628\\ \\text{Hz}\n",
       "\\\\[10pt]\n",
       "\\phi_{dot_{5}} &= \\frac{ 2 \\cdot \\omega_{5} \\cdot Raio_{5} \\cdot \\left( \\frac{ \\Delta_{h_{5}} }{ Raio_{5} } \\right) ^{ 0.5 } }{ h_{i_{5}} + h_{f_{5}} } = \\frac{ 2 \\cdot 31.617\\ \\text{Hz} \\cdot 53.304\\ \\text{mm} \\cdot \\left( \\frac{ 8.318\\ \\text{mm} }{ 53.304\\ \\text{mm} } \\right) ^{ 0.5 } }{ 40.320\\ \\text{mm} + 32.002\\ \\text{mm} } &= 18.411\\ \\text{Hz}\n",
       "\\\\[10pt]\n",
       "\\phi_{dot_{6}} &= \\frac{ 2 \\cdot \\omega_{6} \\cdot Raio_{6} \\cdot \\left( \\frac{ \\Delta_{h_{6}} }{ Raio_{6} } \\right) ^{ 0.5 } }{ h_{i_{6}} + h_{f_{6}} } = \\frac{ 2 \\cdot 50.151\\ \\text{Hz} \\cdot 42.308\\ \\text{mm} \\cdot \\left( \\frac{ 6.602\\ \\text{mm} }{ 42.308\\ \\text{mm} } \\right) ^{ 0.5 } }{ 32.002\\ \\text{mm} + 25.400\\ \\text{mm} } &= 29.203\\ \\text{Hz}\n",
       "\\end{aligned}\n",
       "\\]"
      ],
      "text/plain": [
       "<IPython.core.display.Latex object>"
      ]
     },
     "metadata": {},
     "output_type": "display_data"
    }
   ],
   "source": [
    "%%render\n",
    "#short\n",
    "\n",
    "phi_dot_1 = (2*omega_1*Raio_1*(Delta_h_1/Raio_1)**0.5)/(h_i_1+h_f_1)\n",
    "phi_dot_2 = (2*omega_2*Raio_2*(Delta_h_2/Raio_2)**0.5)/(h_i_2+h_f_2)\n",
    "phi_dot_3 = (2*omega_3*Raio_3*(Delta_h_3/Raio_3)**0.5)/(h_i_3+h_f_3)\n",
    "phi_dot_4 = (2*omega_4*Raio_4*(Delta_h_4/Raio_4)**0.5)/(h_i_4+h_f_4)\n",
    "phi_dot_5 = (2*omega_5*Raio_5*(Delta_h_5/Raio_5)**0.5)/(h_i_5+h_f_5)\n",
    "phi_dot_6 = (2*omega_6*Raio_6*(Delta_h_6/Raio_6)**0.5)/(h_i_6+h_f_6)"
   ]
  },
  {
   "cell_type": "markdown",
   "metadata": {},
   "source": [
    "Finalmente, $K_w$:"
   ]
  },
  {
   "cell_type": "code",
   "execution_count": 29,
   "metadata": {},
   "outputs": [
    {
     "data": {
      "text/latex": [
       "\\[\n",
       "\\begin{aligned}\n",
       "K_{w_{1}} &= \\left( 1 + \\frac{ 1.6 \\cdot \\mu \\cdot l_{d_{1}} - 1.2 \\cdot \\Delta_{h_{1}} }{ h_{i_{1}} + h_{f_{1}} } \\right) \\cdot \\left( \\sigma_{e_{kgfmm2}} + \\eta \\cdot \\phi_{dot_{1}} \\cdot s \\right) \\cdot \\left( 9.81 \\cdot MPa \\right) \\\\&= \\left( 1 + \\frac{ 1.6 \\cdot 0.48 \\cdot 53.060\\ \\text{mm} - 1.2 \\cdot 20.960\\ \\text{mm} }{ 101.600\\ \\text{mm} + 80.640\\ \\text{mm} } \\right) \\cdot \\left( 10.25 + 0.05 \\cdot 3.049\\ \\text{Hz} \\cdot s \\right) \\cdot \\left( 9.81 \\cdot MPa \\right) \\\\&= 110.782\\ \\text{MPa}\\;\\;\\textrm{(como o cálculo é empírico e envolve kgf/mm², alguma complicação no dimensional)}\\\\\n",
       "\\\\[10pt]\n",
       "K_{w_{2}} &= \\left( 1 + \\frac{ 1.6 \\cdot \\mu \\cdot l_{d_{2}} - 1.2 \\cdot \\Delta_{h_{2}} }{ h_{i_{2}} + h_{f_{2}} } \\right) \\cdot \\left( \\sigma_{e_{kgfmm2}} + \\eta \\cdot \\phi_{dot_{2}} \\cdot s \\right) \\cdot \\left( 9.81 \\cdot MPa \\right) \\\\&= \\left( 1 + \\frac{ 1.6 \\cdot 0.48 \\cdot 42.113\\ \\text{mm} - 1.2 \\cdot 16.636\\ \\text{mm} }{ 80.640\\ \\text{mm} + 64.004\\ \\text{mm} } \\right) \\cdot \\left( 10.25 + 0.05 \\cdot 4.712\\ \\text{Hz} \\cdot s \\right) \\cdot \\left( 9.81 \\cdot MPa \\right) \\\\&= 111.668\\ \\text{MPa}\\\\\n",
       "\\\\[10pt]\n",
       "K_{w_{3}} &= \\left( 1 + \\frac{ 1.6 \\cdot \\mu \\cdot l_{d_{3}} - 1.2 \\cdot \\Delta_{h_{3}} }{ h_{i_{3}} + h_{f_{3}} } \\right) \\cdot \\left( \\sigma_{e_{kgfmm2}} + \\eta \\cdot \\phi_{dot_{3}} \\cdot s \\right) \\cdot \\left( 9.81 \\cdot MPa \\right) \\\\&= \\left( 1 + \\frac{ 1.6 \\cdot 0.48 \\cdot 33.425\\ \\text{mm} - 1.2 \\cdot 13.204\\ \\text{mm} }{ 64.004\\ \\text{mm} + 50.800\\ \\text{mm} } \\right) \\cdot \\left( 10.25 + 0.05 \\cdot 7.373\\ \\text{Hz} \\cdot s \\right) \\cdot \\left( 9.81 \\cdot MPa \\right) \\\\&= 113.085\\ \\text{MPa}\\\\\n",
       "\\\\[10pt]\n",
       "K_{w_{4}} &= \\left( 1 + \\frac{ 1.6 \\cdot \\mu \\cdot l_{d_{4}} - 1.2 \\cdot \\Delta_{h_{4}} }{ h_{i_{4}} + h_{f_{4}} } \\right) \\cdot \\left( \\sigma_{e_{kgfmm2}} + \\eta \\cdot \\phi_{dot_{4}} \\cdot s \\right) \\cdot \\left( 9.81 \\cdot MPa \\right) \\\\&= \\left( 1 + \\frac{ 1.6 \\cdot 0.48 \\cdot 26.530\\ \\text{mm} - 1.2 \\cdot 10.480\\ \\text{mm} }{ 50.800\\ \\text{mm} + 40.320\\ \\text{mm} } \\right) \\cdot \\left( 10.25 + 0.05 \\cdot 11.628\\ \\text{Hz} \\cdot s \\right) \\cdot \\left( 9.81 \\cdot MPa \\right) \\\\&= 115.350\\ \\text{MPa}\\\\\n",
       "\\\\[10pt]\n",
       "K_{w_{5}} &= \\left( 1 + \\frac{ 1.6 \\cdot \\mu \\cdot l_{d_{5}} - 1.2 \\cdot \\Delta_{h_{5}} }{ h_{i_{5}} + h_{f_{5}} } \\right) \\cdot \\left( \\sigma_{e_{kgfmm2}} + \\eta \\cdot \\phi_{dot_{5}} \\cdot s \\right) \\cdot \\left( 9.81 \\cdot MPa \\right) \\\\&= \\left( 1 + \\frac{ 1.6 \\cdot 0.48 \\cdot 21.057\\ \\text{mm} - 1.2 \\cdot 8.318\\ \\text{mm} }{ 40.320\\ \\text{mm} + 32.002\\ \\text{mm} } \\right) \\cdot \\left( 10.25 + 0.05 \\cdot 18.411\\ \\text{Hz} \\cdot s \\right) \\cdot \\left( 9.81 \\cdot MPa \\right) \\\\&= 118.962\\ \\text{MPa}\\\\\n",
       "\\\\[10pt]\n",
       "K_{w_{6}} &= \\left( 1 + \\frac{ 1.6 \\cdot \\mu \\cdot l_{d_{6}} - 1.2 \\cdot \\Delta_{h_{6}} }{ h_{i_{6}} + h_{f_{6}} } \\right) \\cdot \\left( \\sigma_{e_{kgfmm2}} + \\eta \\cdot \\phi_{dot_{6}} \\cdot s \\right) \\cdot \\left( 9.81 \\cdot MPa \\right) \\\\&= \\left( 1 + \\frac{ 1.6 \\cdot 0.48 \\cdot 16.713\\ \\text{mm} - 1.2 \\cdot 6.602\\ \\text{mm} }{ 32.002\\ \\text{mm} + 25.400\\ \\text{mm} } \\right) \\cdot \\left( 10.25 + 0.05 \\cdot 29.203\\ \\text{Hz} \\cdot s \\right) \\cdot \\left( 9.81 \\cdot MPa \\right) \\\\&= 124.709\\ \\text{MPa}\\\\\n",
       "\\end{aligned}\n",
       "\\]"
      ],
      "text/plain": [
       "<IPython.core.display.Latex object>"
      ]
     },
     "metadata": {},
     "output_type": "display_data"
    }
   ],
   "source": [
    "%%render\n",
    "#long\n",
    "\n",
    "K_w_1 = (1+(1.6*mu*l_d_1-1.2*Delta_h_1)/(h_i_1+h_f_1))*(sigma_e_kgfmm2+eta*phi_dot_1*s)*(9.81*MPa) #como o cálculo é empírico e envolve kgf/mm², alguma complicação no dimensional\n",
    "K_w_2 = (1+(1.6*mu*l_d_2-1.2*Delta_h_2)/(h_i_2+h_f_2))*(sigma_e_kgfmm2+eta*phi_dot_2*s)*(9.81*MPa)\n",
    "K_w_3 = (1+(1.6*mu*l_d_3-1.2*Delta_h_3)/(h_i_3+h_f_3))*(sigma_e_kgfmm2+eta*phi_dot_3*s)*(9.81*MPa)\n",
    "K_w_4 = (1+(1.6*mu*l_d_4-1.2*Delta_h_4)/(h_i_4+h_f_4))*(sigma_e_kgfmm2+eta*phi_dot_4*s)*(9.81*MPa)\n",
    "K_w_5 = (1+(1.6*mu*l_d_5-1.2*Delta_h_5)/(h_i_5+h_f_5))*(sigma_e_kgfmm2+eta*phi_dot_5*s)*(9.81*MPa)\n",
    "K_w_6 = (1+(1.6*mu*l_d_6-1.2*Delta_h_6)/(h_i_6+h_f_6))*(sigma_e_kgfmm2+eta*phi_dot_6*s)*(9.81*MPa) "
   ]
  },
  {
   "cell_type": "markdown",
   "metadata": {},
   "source": [
    "Perto do fim, as Forças:"
   ]
  },
  {
   "cell_type": "code",
   "execution_count": 25,
   "metadata": {},
   "outputs": [
    {
     "data": {
      "text/latex": [
       "\\[\n",
       "\\begin{aligned}\n",
       "F_{1} &= K_{w_{1}} \\cdot A_{c_{1}} = 110.782\\ \\text{MPa} \\cdot 5515.376\\ \\text{mm}^{2.0} &= 611.006\\ \\text{kN}\n",
       "\\\\[10pt]\n",
       "F_{2} &= K_{w_{2}} \\cdot A_{c_{2}} = 111.668\\ \\text{MPa} \\cdot 4537.335\\ \\text{mm}^{2.0} &= 506.673\\ \\text{kN}\n",
       "\\\\[10pt]\n",
       "F_{3} &= K_{w_{3}} \\cdot A_{c_{3}} = 113.085\\ \\text{MPa} \\cdot 3675.877\\ \\text{mm}^{2.0} &= 415.686\\ \\text{kN}\n",
       "\\\\[10pt]\n",
       "F_{4} &= K_{w_{4}} \\cdot A_{c_{4}} = 115.350\\ \\text{MPa} \\cdot 2948.049\\ \\text{mm}^{2.0} &= 340.058\\ \\text{kN}\n",
       "\\\\[10pt]\n",
       "F_{5} &= K_{w_{5}} \\cdot A_{c_{5}} = 118.962\\ \\text{MPa} \\cdot 2350.538\\ \\text{mm}^{2.0} &= 279.625\\ \\text{kN}\n",
       "\\\\[10pt]\n",
       "F_{6} &= K_{w_{6}} \\cdot A_{c_{6}} = 124.709\\ \\text{MPa} \\cdot 1868.706\\ \\text{mm}^{2.0} &= 233.044\\ \\text{kN}\n",
       "\\end{aligned}\n",
       "\\]"
      ],
      "text/plain": [
       "<IPython.core.display.Latex object>"
      ]
     },
     "metadata": {},
     "output_type": "display_data"
    }
   ],
   "source": [
    "%%render\n",
    "#short\n",
    "\n",
    "F_1 = K_w_1*A_c_1\n",
    "F_2 = K_w_2*A_c_2\n",
    "F_3 = K_w_3*A_c_3\n",
    "F_4 = K_w_4*A_c_4\n",
    "F_5 = K_w_5*A_c_5\n",
    "F_6 = K_w_6*A_c_6"
   ]
  },
  {
   "cell_type": "markdown",
   "metadata": {},
   "source": [
    "### E, para finalizar, os Momentos e a Potência:"
   ]
  },
  {
   "cell_type": "code",
   "execution_count": 26,
   "metadata": {},
   "outputs": [
    {
     "data": {
      "text/latex": [
       "\\[\n",
       "\\begin{aligned}\n",
       "M_{1} &= F_{1} \\cdot l_{d_{1}} = 611.006\\ \\text{kN} \\cdot 53.060\\ \\text{mm} &= 32.420\\ \\text{kN} \\cdot \\text{m}\n",
       "\\\\[10pt]\n",
       "P_{1} &= \\left( M_{1} \\cdot \\omega_{1} \\right) \\cdot \\left( \\frac{ 1 }{ 0.735 \\cdot 1000 \\cdot W } \\right) = \\left( 32.420\\ \\text{kN} \\cdot \\text{m} \\cdot 5.236\\ \\text{Hz} \\right) \\cdot \\left( \\frac{ 1 }{ 0.735 \\cdot 1000 \\cdot W } \\right) &= 230.952\\;\\;\\textrm{(CV)}\n",
       "\\\\[10pt]\n",
       "M_{2} &= F_{2} \\cdot l_{d_{2}} = 506.673\\ \\text{kN} \\cdot 42.113\\ \\text{mm} &= 21.338\\ \\text{kN} \\cdot \\text{m}\n",
       "\\\\[10pt]\n",
       "P_{2} &= \\left( M_{2} \\cdot \\omega_{2} \\right) \\cdot \\left( \\frac{ 1 }{ 0.735 \\cdot 1000 \\cdot W } \\right) = \\left( 21.338\\ \\text{kN} \\cdot \\text{m} \\cdot 8.091\\ \\text{Hz} \\right) \\cdot \\left( \\frac{ 1 }{ 0.735 \\cdot 1000 \\cdot W } \\right) &= 234.898\\;\\;\\textrm{(CV)}\n",
       "\\\\[10pt]\n",
       "M_{3} &= F_{3} \\cdot l_{d_{3}} = 415.686\\ \\text{kN} \\cdot 33.425\\ \\text{mm} &= 13.895\\ \\text{kN} \\cdot \\text{m}\n",
       "\\\\[10pt]\n",
       "P_{3} &= \\left( M_{3} \\cdot \\omega_{3} \\right) \\cdot \\left( \\frac{ 1 }{ 0.735 \\cdot 1000 \\cdot W } \\right) = \\left( 13.895\\ \\text{kN} \\cdot \\text{m} \\cdot 12.662\\ \\text{Hz} \\right) \\cdot \\left( \\frac{ 1 }{ 0.735 \\cdot 1000 \\cdot W } \\right) &= 239.367\\;\\;\\textrm{(CV)}\n",
       "\\\\[10pt]\n",
       "M_{4} &= F_{4} \\cdot l_{d_{4}} = 340.058\\ \\text{kN} \\cdot 26.530\\ \\text{mm} &= 9.022\\ \\text{kN} \\cdot \\text{m}\n",
       "\\\\[10pt]\n",
       "P_{4} &= \\left( M_{4} \\cdot \\omega_{4} \\right) \\cdot \\left( \\frac{ 1 }{ 0.735 \\cdot 1000 \\cdot W } \\right) = \\left( 9.022\\ \\text{kN} \\cdot \\text{m} \\cdot 19.968\\ \\text{Hz} \\right) \\cdot \\left( \\frac{ 1 }{ 0.735 \\cdot 1000 \\cdot W } \\right) &= 245.098\\;\\;\\textrm{(CV)}\n",
       "\\\\[10pt]\n",
       "M_{5} &= F_{5} \\cdot l_{d_{5}} = 279.625\\ \\text{kN} \\cdot 21.057\\ \\text{mm} &= 5.888\\ \\text{kN} \\cdot \\text{m}\n",
       "\\\\[10pt]\n",
       "P_{5} &= \\left( M_{5} \\cdot \\omega_{5} \\right) \\cdot \\left( \\frac{ 1 }{ 0.735 \\cdot 1000 \\cdot W } \\right) = \\left( 5.888\\ \\text{kN} \\cdot \\text{m} \\cdot 31.617\\ \\text{Hz} \\right) \\cdot \\left( \\frac{ 1 }{ 0.735 \\cdot 1000 \\cdot W } \\right) &= 253.283\\;\\;\\textrm{(CV)}\n",
       "\\\\[10pt]\n",
       "M_{6} &= F_{6} \\cdot l_{d_{6}} = 233.044\\ \\text{kN} \\cdot 16.713\\ \\text{mm} &= 3.895\\ \\text{kN} \\cdot \\text{m}\n",
       "\\\\[10pt]\n",
       "P_{6} &= \\left( M_{6} \\cdot \\omega_{6} \\right) \\cdot \\left( \\frac{ 1 }{ 0.735 \\cdot 1000 \\cdot W } \\right) = \\left( 3.895\\ \\text{kN} \\cdot \\text{m} \\cdot 50.151\\ \\text{Hz} \\right) \\cdot \\left( \\frac{ 1 }{ 0.735 \\cdot 1000 \\cdot W } \\right) &= 265.752\\;\\;\\textrm{(CV)}\n",
       "\\end{aligned}\n",
       "\\]"
      ],
      "text/plain": [
       "<IPython.core.display.Latex object>"
      ]
     },
     "metadata": {},
     "output_type": "display_data"
    }
   ],
   "source": [
    "%%render\n",
    "#short\n",
    "\n",
    "M_1 = F_1 * l_d_1\n",
    "P_1 = (M_1 * omega_1)*(1/(0.735*1000*W)) #CV\n",
    "\n",
    "M_2 = F_2 * l_d_2\n",
    "P_2 = (M_2 * omega_2)*(1/(0.735*1000*W)) #CV\n",
    "\n",
    "M_3 = F_3 * l_d_3\n",
    "P_3 = (M_3 * omega_3)*(1/(0.735*1000*W)) #CV\n",
    "\n",
    "M_4 = F_4 * l_d_4\n",
    "P_4 = (M_4 * omega_4)*(1/(0.735*1000*W)) #CV\n",
    "\n",
    "M_5 = F_5 * l_d_5\n",
    "P_5 = (M_5 * omega_5)*(1/(0.735*1000*W)) #CV\n",
    "\n",
    "M_6 = F_6 * l_d_6\n",
    "P_6 = (M_6 * omega_6)*(1/(0.735*1000*W)) #CV\n"
   ]
  },
  {
   "cell_type": "code",
   "execution_count": null,
   "metadata": {},
   "outputs": [],
   "source": []
  }
 ],
 "metadata": {
  "kernelspec": {
   "display_name": "Python 3",
   "language": "python",
   "name": "python3"
  },
  "language_info": {
   "codemirror_mode": {
    "name": "ipython",
    "version": 3
   },
   "file_extension": ".py",
   "mimetype": "text/x-python",
   "name": "python",
   "nbconvert_exporter": "python",
   "pygments_lexer": "ipython3",
   "version": "3.8.5"
  }
 },
 "nbformat": 4,
 "nbformat_minor": 4
}
