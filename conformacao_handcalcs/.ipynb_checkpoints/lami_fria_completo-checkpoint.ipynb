{
 "cells": [
  {
   "cell_type": "code",
   "execution_count": null,
   "metadata": {},
   "outputs": [],
   "source": [
    "#from handcalcs.install_templates import install_html\n",
    "\n",
    "#install_html('full_html_noinputs.tpl')"
   ]
  },
  {
   "cell_type": "code",
   "execution_count": 3,
   "metadata": {},
   "outputs": [],
   "source": [
    "from handcalcs import render \n",
    "import forallpeople as si\n",
    "from scipy import integrate\n",
    "\n",
    "si.environment('default', top_level=True)\n",
    "\n",
    "from scipy.optimize import fsolve\n",
    "from handcalcs.decorator import handcalc\n",
    "import sympy as sp\n",
    "\n",
    "#def equation(x):\n",
    "#    return 4**x + 6**x - 9**x\n",
    "#fsolve(equation,x0=[0,10])"
   ]
  },
  {
   "cell_type": "markdown",
   "metadata": {},
   "source": [
    "### Enunciado - Exercício de Conformação a Frio\n",
    "\n",
    "Uma chapa de alumínio (σe = 30 |ϕ|^0,30 kgf/mm2) de espessura 3,5 mm e\n",
    "largura 700 mm é laminada até 1,5 mm de espessura. Desprezando o alargamento, considerando μ = 0,08 (cilindros de aço\n",
    "contra alumínio) e sabendo que se usa cilindros de diâmetro 25% maior que o\n",
    "mínimo necessário e que os cilindros giram a 120 RPM, calcule as forças e a potências ideais de laminação.\n",
    "\n"
   ]
  },
  {
   "cell_type": "markdown",
   "metadata": {},
   "source": [
    "---\n",
    "Como primeira etapa, deve-se calcular a deformação verdadeira realizada durante o processo. Caso seja maior que o expoente $n$ (no caso, $0.3$), deve-se divir o processo em mais de uma etapa, uma vez que ultrapassando este limite a deformação não se dá mais de forma homogênea."
   ]
  },
  {
   "cell_type": "code",
   "execution_count": 4,
   "metadata": {},
   "outputs": [],
   "source": [
    "import numpy as np\n",
    "from numpy import log as ln\n",
    "from math import ceil as Arredondar\n",
    "from math import fabs as Absoluto"
   ]
  },
  {
   "cell_type": "code",
   "execution_count": 5,
   "metadata": {},
   "outputs": [
    {
     "data": {
      "text/latex": [
       "\\[\n",
       "\\begin{aligned}\n",
       "n &= 0.3\\;\\;\\textrm{(máximo de deformação homogênea por passe)}\n",
       "\\\\[10pt]\n",
       "\\phi &= \\operatorname{ln} \\left( \\frac{ 1.5 }{ 3.5 } \\right) \\\\&= \\operatorname{ln} \\left( \\frac{ 1.5 }{ 3.5 } \\right) \\\\&= -0.847\\;\\;\\textrm{($\\phi$ é maior que $n$, necessária divisão do processo)}\\\\\n",
       "\\\\[10pt]\n",
       "n_{passes} &= \\operatorname{Arredondar} \\left( \\operatorname{Absoluto} \\left( \\frac{ \\phi }{ n } \\right) \\right) \\\\&= \\operatorname{Arredondar} \\left( \\operatorname{Absoluto} \\left( \\frac{ -0.847 }{ 0.3 } \\right) \\right) \\\\&= 3\\;\\;\\textrm{(número de passes necessários para que a deformação seja homogênea)}\\\\\n",
       "\\\\[10pt]\n",
       "\\phi_{passes} &= \\frac{ \\phi }{ n_{passes} } \\\\&= \\frac{ -0.847 }{ 3 } \\\\&= -0.282\\;\\;\\textrm{(valor da deformação verdadeira na espessura em cada passe)}\\\\\n",
       "\\end{aligned}\n",
       "\\]"
      ],
      "text/plain": [
       "<IPython.core.display.Latex object>"
      ]
     },
     "metadata": {},
     "output_type": "display_data"
    }
   ],
   "source": [
    "%%render \n",
    "#long\n",
    "\n",
    "n = 0.3 #máximo de deformação homogênea por passe\n",
    "\n",
    "phi = ln(1.5/3.5) #$\\phi$ é maior que $n$, necessária divisão do processo\n",
    "\n",
    "n_passes = Arredondar(Absoluto(phi/n)) #número de passes necessários para que a deformação seja homogênea\n",
    "\n",
    "phi_passes = phi/n_passes #valor da deformação verdadeira na espessura em cada passe"
   ]
  },
  {
   "cell_type": "markdown",
   "metadata": {},
   "source": [
    "---\n",
    "Feito isto, se faz necessária a identificação da espessura obtida em cada processo:"
   ]
  },
  {
   "cell_type": "code",
   "execution_count": 6,
   "metadata": {},
   "outputs": [],
   "source": [
    "from numpy import e"
   ]
  },
  {
   "cell_type": "code",
   "execution_count": 7,
   "metadata": {},
   "outputs": [
    {
     "data": {
      "text/latex": [
       "\\[\n",
       "\\begin{aligned}\n",
       "h_{i} &= 3.5 \\cdot mm = 3.5 \\cdot mm &= 3.500\\ \\text{mm}\n",
       "\\\\[10pt]\n",
       "h_{1} &= h_{i} \\cdot \\left( e \\right) ^{ \\phi_{passes} } = 3.500\\ \\text{mm} \\cdot \\left( 2.718 \\right) ^{ -0.282 } &= 2.639\\ \\text{mm}\n",
       "\\\\[10pt]\n",
       "h_{2} &= h_{1} \\cdot \\left( e \\right) ^{ \\phi_{passes} } = 2.639\\ \\text{mm} \\cdot \\left( 2.718 \\right) ^{ -0.282 } &= 1.990\\ \\text{mm}\n",
       "\\\\[10pt]\n",
       "h_{3} &= h_{2} \\cdot \\left( e \\right) ^{ \\phi_{passes} } = 1.990\\ \\text{mm} \\cdot \\left( 2.718 \\right) ^{ -0.282 } &= 1.500\\ \\text{mm}\n",
       "\\\\[10pt]\n",
       "h_{f} &= 1.500\\ \\text{mm}\\;\n",
       "\\end{aligned}\n",
       "\\]"
      ],
      "text/plain": [
       "<IPython.core.display.Latex object>"
      ]
     },
     "metadata": {},
     "output_type": "display_data"
    }
   ],
   "source": [
    "%%render \n",
    "#short\n",
    "\n",
    "h_i = 3.5 * mm \n",
    "\n",
    "h_1 = h_i*e**phi_passes \n",
    "\n",
    "h_2 = h_1*e**phi_passes \n",
    "\n",
    "h_3 = h_2*e**phi_passes \n",
    "\n",
    "h_f = h_3"
   ]
  },
  {
   "cell_type": "markdown",
   "metadata": {},
   "source": [
    "---\n",
    "Importante frisar que entre todos os passes o processo de recozimento foi realizado."
   ]
  },
  {
   "cell_type": "markdown",
   "metadata": {},
   "source": [
    "---\n",
    "Agora, deve-se calcular as variações de espessura entre as passagens pelos rolos, para então determinar o raio mínimo de cada um deles:"
   ]
  },
  {
   "cell_type": "code",
   "execution_count": 8,
   "metadata": {},
   "outputs": [
    {
     "data": {
      "text/latex": [
       "\\[\n",
       "\\begin{aligned}\n",
       "\\Delta_{h_{1}} &= h_{i} - h_{1} = 3.500\\ \\text{mm} - 2.639\\ \\text{mm} &= 861.184\\ \\text{μm}\n",
       "\\\\[10pt]\n",
       "\\Delta_{h_{2}} &= h_{1} - h_{2} = 2.639\\ \\text{mm} - 1.990\\ \\text{mm} &= 649.287\\ \\text{μm}\n",
       "\\\\[10pt]\n",
       "\\Delta_{h_{3}} &= h_{2} - h_{3} = 1.990\\ \\text{mm} - 1.500\\ \\text{mm} &= 489.529\\ \\text{μm}\n",
       "\\end{aligned}\n",
       "\\]"
      ],
      "text/plain": [
       "<IPython.core.display.Latex object>"
      ]
     },
     "metadata": {},
     "output_type": "display_data"
    }
   ],
   "source": [
    "%%render \n",
    "#short\n",
    "\n",
    "Delta_h_1 = h_i - h_1\n",
    "\n",
    "Delta_h_2 = h_1 - h_2\n",
    "\n",
    "Delta_h_3 = h_2 - h_3"
   ]
  },
  {
   "cell_type": "markdown",
   "metadata": {},
   "source": [
    "---\n",
    "Enfim, o raio:"
   ]
  },
  {
   "cell_type": "code",
   "execution_count": 9,
   "metadata": {},
   "outputs": [],
   "source": [
    "from numpy import sin as sen\n",
    "from numpy import arctan as arctg"
   ]
  },
  {
   "cell_type": "code",
   "execution_count": 10,
   "metadata": {},
   "outputs": [
    {
     "data": {
      "text/latex": [
       "\\[\n",
       "\\begin{aligned}\n",
       "\\mu &= 0.08\\;\\;\\textrm{(coeficiente de atrito entre o rolo e a chapa)}\n",
       "\\\\[10pt]\n",
       "Raio_{1} &= 1.25 \\cdot \\frac{ \\Delta_{h_{1}} }{ \\operatorname{sen} \\left( \\operatorname{arctg} \\left( \\mu \\right) \\right) ^{ 2 } } = 1.25 \\cdot \\frac{ 861.184\\ \\text{μm} }{ \\operatorname{sen} \\left( \\operatorname{arctg} \\left( 0.08 \\right) \\right) ^{ 2 } } &= 169.276\\ \\text{mm}\n",
       "\\\\[10pt]\n",
       "Raio_{2} &= 1.25 \\cdot \\frac{ \\Delta_{h_{2}} }{ \\operatorname{sen} \\left( \\operatorname{arctg} \\left( \\mu \\right) \\right) ^{ 2 } } = 1.25 \\cdot \\frac{ 649.287\\ \\text{μm} }{ \\operatorname{sen} \\left( \\operatorname{arctg} \\left( 0.08 \\right) \\right) ^{ 2 } } &= 127.626\\ \\text{mm}\n",
       "\\\\[10pt]\n",
       "Raio_{3} &= 1.25 \\cdot \\frac{ \\Delta_{h_{3}} }{ \\operatorname{sen} \\left( \\operatorname{arctg} \\left( \\mu \\right) \\right) ^{ 2 } } = 1.25 \\cdot \\frac{ 489.529\\ \\text{μm} }{ \\operatorname{sen} \\left( \\operatorname{arctg} \\left( 0.08 \\right) \\right) ^{ 2 } } &= 96.223\\ \\text{mm}\n",
       "\\end{aligned}\n",
       "\\]"
      ],
      "text/plain": [
       "<IPython.core.display.Latex object>"
      ]
     },
     "metadata": {},
     "output_type": "display_data"
    }
   ],
   "source": [
    "%%render \n",
    "#short\n",
    "\n",
    "mu = 0.08 #coeficiente de atrito entre o rolo e a chapa\n",
    "\n",
    "Raio_1 = 1.25*Delta_h_1/(sen(arctg(mu))**2)\n",
    "\n",
    "Raio_2 = 1.25*Delta_h_2/(sen(arctg(mu))**2)\n",
    "\n",
    "Raio_3 = 1.25*Delta_h_3/(sen(arctg(mu))**2)"
   ]
  },
  {
   "cell_type": "markdown",
   "metadata": {},
   "source": [
    "---\n",
    "Com os $Raio_i$, conseguimos calcular a largura em que a chapa entrará em contato com o rolo, e consequentente as áreas totais de contato $A_{c_i}$:"
   ]
  },
  {
   "cell_type": "code",
   "execution_count": 11,
   "metadata": {},
   "outputs": [],
   "source": [
    "from math import sqrt"
   ]
  },
  {
   "cell_type": "code",
   "execution_count": 12,
   "metadata": {},
   "outputs": [
    {
     "data": {
      "text/latex": [
       "\\[\n",
       "\\begin{aligned}\n",
       "l_{d_{1}} &= \\left( Raio_{1} \\cdot \\Delta_{h_{1}} \\right) ^{ 0.5 } = \\left( 169.276\\ \\text{mm} \\cdot 861.184\\ \\text{μm} \\right) ^{ 0.5 } &= 12.074\\ \\text{mm}\n",
       "\\\\[10pt]\n",
       "l_{d_{2}} &= \\left( Raio_{2} \\cdot \\Delta_{h_{2}} \\right) ^{ 0.5 } = \\left( 127.626\\ \\text{mm} \\cdot 649.287\\ \\text{μm} \\right) ^{ 0.5 } &= 9.103\\ \\text{mm}\n",
       "\\\\[10pt]\n",
       "l_{d_{3}} &= \\left( Raio_{3} \\cdot \\Delta_{h_{3}} \\right) ^{ 0.5 } = \\left( 96.223\\ \\text{mm} \\cdot 489.529\\ \\text{μm} \\right) ^{ 0.5 } &= 6.863\\ \\text{mm}\n",
       "\\end{aligned}\n",
       "\\]"
      ],
      "text/plain": [
       "<IPython.core.display.Latex object>"
      ]
     },
     "metadata": {},
     "output_type": "display_data"
    }
   ],
   "source": [
    "%%render short\n",
    "\n",
    "l_d_1 = (Raio_1*Delta_h_1)**0.5\n",
    "\n",
    "l_d_2 = (Raio_2*Delta_h_2)**0.5\n",
    "\n",
    "l_d_3 = (Raio_3*Delta_h_3)**0.5"
   ]
  },
  {
   "cell_type": "code",
   "execution_count": 13,
   "metadata": {},
   "outputs": [
    {
     "data": {
      "text/latex": [
       "\\[\n",
       "\\begin{aligned}\n",
       "b_{m} &= 700 \\cdot mm \\\\&= 700 \\cdot mm \\\\&= 700.000\\ \\text{mm}\\;\\;\\textrm{(na laminação a frio, a variação de largura é desprezível)}\\\\\n",
       "\\\\[10pt]\n",
       "A_{c_{1}} &= l_{d_{1}} \\cdot b_{m} \\\\&= 12.074\\ \\text{mm} \\cdot 700.000\\ \\text{mm} \\\\&= 8451.704\\ \\text{mm}^{2.0}\\\\\n",
       "\\\\[10pt]\n",
       "A_{c_{2}} &= l_{d_{2}} \\cdot b_{m} \\\\&= 9.103\\ \\text{mm} \\cdot 700.000\\ \\text{mm} \\\\&= 6372.141\\ \\text{mm}^{2.0}\\\\\n",
       "\\\\[10pt]\n",
       "A_{c_{3}} &= l_{d_{3}} \\cdot b_{m} \\\\&= 6.863\\ \\text{mm} \\cdot 700.000\\ \\text{mm} \\\\&= 4804.259\\ \\text{mm}^{2.0}\\\\\n",
       "\\end{aligned}\n",
       "\\]"
      ],
      "text/plain": [
       "<IPython.core.display.Latex object>"
      ]
     },
     "metadata": {},
     "output_type": "display_data"
    }
   ],
   "source": [
    "%%render \n",
    "#long\n",
    "\n",
    "b_m = 700*mm # na laminação a frio, a variação de largura é desprezível\n",
    "\n",
    "A_c_1 = l_d_1 * b_m\n",
    "A_c_2 = l_d_2 * b_m\n",
    "A_c_3 = l_d_3 * b_m"
   ]
  },
  {
   "cell_type": "markdown",
   "metadata": {},
   "source": [
    "---\n",
    "Para obter a força realizada em cada etapa, se faz necessário o cálculo da tensão de escoamento vigente durante o processo. Como o exercício propõe uma situação ideal, essa tensão nada mais é do que a média entre a tensão antes da chapa passar pelo rolo e a tensão após a chapa passar pelo rolo. \n",
    "\n",
    "Consegue-se obter tais valores através da equação de Holloman, que, para este caso, é:\n",
    "\n",
    "\n",
    "\\begin{aligned}\n",
    "\\sigma_{escoamento} &= \\sigma_o \\cdot |\\phi| ^ {n} = 30 \\cdot  |\\phi|  ^{ 0.3 }\n",
    "\\end{aligned}\n"
   ]
  },
  {
   "cell_type": "code",
   "execution_count": 14,
   "metadata": {},
   "outputs": [
    {
     "data": {
      "text/latex": [
       "\\[\n",
       "\\begin{aligned}\n",
       "\\phi_{plastico} &= 0.002\\;\\;\\textrm{(deformação verdadeira no início da deformação plástica)}\n",
       "\\\\[10pt]\n",
       "\\sigma_{o} &= 30 \\cdot 9.81 \\cdot MPa \\\\&= 30 \\cdot 9.81 \\cdot MPa \\\\&= 294.300\\ \\text{MPa}\\;\\;\\textrm{(transformar de kgf/mm² para MPa)}\\\\\n",
       "\\\\[10pt]\n",
       "\\sigma_{e_{entrada}} &= \\sigma_{o} \\cdot \\left( \\phi_{plastico} \\right) ^{ n } \\\\&= 294.300\\ \\text{MPa} \\cdot \\left( 0.002 \\right) ^{ 0.3 } \\\\&= 45.614\\ \\text{MPa}\\;\\;\\textrm{(como o material é recozido, a tensão de entrada é sempre a mesma)}\\\\\n",
       "\\\\[10pt]\n",
       "\\sigma_{e_{saida}} &= \\sigma_{o} \\cdot \\operatorname{Absoluto} \\left( \\phi_{passes} \\right) ^{ 0.3 } \\\\&= 294.300\\ \\text{MPa} \\cdot \\operatorname{Absoluto} \\left( -0.282 \\right) ^{ 0.3 } \\\\&= 201.402\\ \\text{MPa}\\;\\;\\textrm{(como $\\phi$ é constate durante as etapas, a tensão de saída também é sempre a mesma)}\\\\\n",
       "\\\\[10pt]\n",
       "\\sigma_{medio} &= \\frac{ \\sigma_{e_{entrada}} + \\sigma_{e_{saida}} }{ 2 } \\\\&= \\frac{ 45.614\\ \\text{MPa} + 201.402\\ \\text{MPa} }{ 2 } \\\\&= 123.508\\ \\text{MPa}\\\\\n",
       "\\end{aligned}\n",
       "\\]"
      ],
      "text/plain": [
       "<IPython.core.display.Latex object>"
      ]
     },
     "metadata": {},
     "output_type": "display_data"
    }
   ],
   "source": [
    "%%render \n",
    "#long\n",
    "\n",
    "phi_plastico = 0.002 #deformação verdadeira no início da deformação plástica\n",
    "\n",
    "sigma_o = 30*9.81*MPa #transformar de kgf/mm² para MPa\n",
    "\n",
    "sigma_e_entrada = sigma_o*phi_plastico**n #como o material é recozido, a tensão de entrada é sempre a mesma\n",
    "\n",
    "sigma_e_saida = sigma_o*Absoluto(phi_passes)**0.3 #como $\\phi$ é constate durante as etapas, a tensão de saída também é sempre a mesma\n",
    "\n",
    "sigma_medio = (sigma_e_entrada + sigma_e_saida)/2"
   ]
  },
  {
   "cell_type": "markdown",
   "metadata": {},
   "source": [
    "---\n",
    "Finalmente, torna-se possível o cálculo da força ideal:"
   ]
  },
  {
   "cell_type": "code",
   "execution_count": 15,
   "metadata": {},
   "outputs": [
    {
     "data": {
      "text/latex": [
       "\\[\n",
       "\\begin{aligned}\n",
       "Forca_{ideal_{1}} &= \\sigma_{medio} \\cdot A_{c_{1}} \\\\&= 123.508\\ \\text{MPa} \\cdot 8451.704\\ \\text{mm}^{2.0} \\\\&= 1.044\\ \\text{MN}\\\\\n",
       "\\\\[10pt]\n",
       "Forca_{ideal_{2}} &= \\sigma_{medio} \\cdot A_{c_{2}} \\\\&= 123.508\\ \\text{MPa} \\cdot 6372.141\\ \\text{mm}^{2.0} \\\\&= 787.012\\ \\text{kN}\\\\\n",
       "\\\\[10pt]\n",
       "Forca_{ideal_{3}} &= \\sigma_{medio} \\cdot A_{c_{3}} \\\\&= 123.508\\ \\text{MPa} \\cdot 4804.259\\ \\text{mm}^{2.0} \\\\&= 593.366\\ \\text{kN}\\\\\n",
       "\\end{aligned}\n",
       "\\]"
      ],
      "text/plain": [
       "<IPython.core.display.Latex object>"
      ]
     },
     "metadata": {},
     "output_type": "display_data"
    }
   ],
   "source": [
    "%%render\n",
    "#long\n",
    "\n",
    "Forca_ideal_1 = sigma_medio * A_c_1\n",
    "\n",
    "Forca_ideal_2 = sigma_medio * A_c_2\n",
    "\n",
    "Forca_ideal_3 = sigma_medio * A_c_3"
   ]
  },
  {
   "cell_type": "markdown",
   "metadata": {},
   "source": [
    "---\n",
    "O cálculo do momento ideal é a última etapa. Poderemos obter a potência ideal com esta grandeza:"
   ]
  },
  {
   "cell_type": "code",
   "execution_count": 16,
   "metadata": {},
   "outputs": [
    {
     "data": {
      "text/latex": [
       "\\[\n",
       "\\begin{aligned}\n",
       "Momento_{ideal_{1}} &= Forca_{ideal_{1}} \\cdot l_{d_{1}} \\\\&= 1.044\\ \\text{MN} \\cdot 12.074\\ \\text{mm} \\\\&= 12.603\\ \\text{kN} \\cdot \\text{m}\\\\\n",
       "\\\\[10pt]\n",
       "Momento_{ideal_{2}} &= Forca_{ideal_{2}} \\cdot l_{d_{2}} \\\\&= 787.012\\ \\text{kN} \\cdot 9.103\\ \\text{mm} \\\\&= 7.164\\ \\text{kN} \\cdot \\text{m}\\\\\n",
       "\\\\[10pt]\n",
       "Momento_{ideal_{3}} &= Forca_{ideal_{3}} \\cdot l_{d_{3}} \\\\&= 593.366\\ \\text{kN} \\cdot 6.863\\ \\text{mm} \\\\&= 4.072\\ \\text{kN} \\cdot \\text{m}\\\\\n",
       "\\end{aligned}\n",
       "\\]"
      ],
      "text/plain": [
       "<IPython.core.display.Latex object>"
      ]
     },
     "metadata": {},
     "output_type": "display_data"
    }
   ],
   "source": [
    "%%render\n",
    "#long\n",
    "\n",
    "Momento_ideal_1 = Forca_ideal_1 * l_d_1\n",
    "\n",
    "Momento_ideal_2 = Forca_ideal_2 * l_d_2\n",
    "\n",
    "Momento_ideal_3 = Forca_ideal_3 * l_d_3"
   ]
  },
  {
   "cell_type": "code",
   "execution_count": 17,
   "metadata": {},
   "outputs": [],
   "source": [
    "from numpy import pi "
   ]
  },
  {
   "cell_type": "code",
   "execution_count": 18,
   "metadata": {},
   "outputs": [
    {
     "data": {
      "text/latex": [
       "\\[\n",
       "\\begin{aligned}\n",
       "Rotacao &= 120\\;\\;\\textrm{(RPM, definida pelo enunciado como igual para todos rolos)}\n",
       "\\end{aligned}\n",
       "\\]"
      ],
      "text/plain": [
       "<IPython.core.display.Latex object>"
      ]
     },
     "metadata": {},
     "output_type": "display_data"
    }
   ],
   "source": [
    "%%render\n",
    "#long\n",
    "\n",
    "Rotacao = 120#RPM, definida pelo enunciado como igual para todos rolos"
   ]
  },
  {
   "cell_type": "code",
   "execution_count": 19,
   "metadata": {},
   "outputs": [
    {
     "data": {
      "text/latex": [
       "\\[\n",
       "\\begin{aligned}\n",
       "Rotacao &= 120 \\cdot 2 \\cdot \\frac{ \\pi }{ 60 } \\cdot \\frac{ 1 }{ s } \\\\&= 120 \\cdot 2 \\cdot \\frac{ 3.142 }{ 60 } \\cdot \\frac{ 1 }{ s } \\\\&= 12.566\\ \\text{Hz}\\\\\n",
       "\\\\[10pt]\n",
       "Potencia_{ideal_{1}} &= Momento_{ideal_{1}} \\cdot Rotacao \\\\&= 12.603\\ \\text{kN} \\cdot \\text{m} \\cdot 12.566\\ \\text{Hz} \\\\&= 158.379\\ \\text{kW}\\;\\;\\textrm{(ou ~ $215 cv$)}\\\\\n",
       "\\\\[10pt]\n",
       "Potencia_{ideal_{2}} &= Momento_{ideal_{2}} \\cdot Rotacao \\\\&= 7.164\\ \\text{kN} \\cdot \\text{m} \\cdot 12.566\\ \\text{Hz} \\\\&= 90.028\\ \\text{kW}\\;\\;\\textrm{(ou ~ $122 cv$)}\\\\\n",
       "\\\\[10pt]\n",
       "Potencia_{ideal_{3}} &= Momento_{ideal_{3}} \\cdot Rotacao \\\\&= 4.072\\ \\text{kN} \\cdot \\text{m} \\cdot 12.566\\ \\text{Hz} \\\\&= 51.175\\ \\text{kW}\\;\\;\\textrm{(ou ~ $69 cv$)}\\\\\n",
       "\\end{aligned}\n",
       "\\]"
      ],
      "text/plain": [
       "<IPython.core.display.Latex object>"
      ]
     },
     "metadata": {},
     "output_type": "display_data"
    }
   ],
   "source": [
    "%%render\n",
    "#long\n",
    "\n",
    "Rotacao = 120*2*pi/60*1/s\n",
    "\n",
    "Potencia_ideal_1 = Momento_ideal_1 * Rotacao # ou ~ $215 cv$\n",
    "Potencia_ideal_2 = Momento_ideal_2 * Rotacao # ou ~ $122 cv$\n",
    "Potencia_ideal_3 = Momento_ideal_3 * Rotacao # ou ~ $69 cv$"
   ]
  },
  {
   "cell_type": "markdown",
   "metadata": {},
   "source": [
    "# Segunda etapa"
   ]
  },
  {
   "cell_type": "markdown",
   "metadata": {},
   "source": [
    "O primeiro passo, para sair do caso ideal para o caso real, é setar setar as forças ideais como entrada na equação de $R'$.\n",
    "\n",
    "Por enquanto, tudo será feito apenas em relação ao primeiro passo:\n",
    "\n",
    "### Primeiro Passo"
   ]
  },
  {
   "cell_type": "code",
   "execution_count": 20,
   "metadata": {},
   "outputs": [
    {
     "data": {
      "text/latex": [
       "\\[\n",
       "\\begin{aligned}\n",
       "c &= \\left( \\frac{ 4.6 \\cdot \\left( 10 \\right) ^{ \\left( - 4 \\right) } }{ 9.81 } \\right) \\cdot \\frac{ \\left( mm \\right) ^{ 2 } }{ N } \\\\&= \\left( \\frac{ 4.6 \\cdot \\left( 10 \\right) ^{ \\left( - 4 \\right) } }{ 9.81 } \\right) \\cdot \\frac{ \\left( mm \\right) ^{ 2 } }{ N } \\\\&= 46.891\\ \\text{pPa}^{-1}\\;\\;\\textrm{(constante do aço transformada para de kgf para N)}\\\\\n",
       "\\\\[10pt]\n",
       "Rlinha_{1_{1}} &= Raio_{1} \\cdot \\left( 1 + \\left( \\frac{ c \\cdot Forca_{ideal_{1}} }{ b_{m} \\cdot \\Delta_{h_{1}} } \\right) \\right) \\\\&= 169.276\\ \\text{mm} \\cdot \\left( 1 + \\left( \\frac{ 46.891\\ \\text{pPa}^{-1} \\cdot 1.044\\ \\text{MN} }{ 700.000\\ \\text{mm} \\cdot 861.184\\ \\text{μm} } \\right) \\right) \\\\&= 183.021\\ \\text{mm}\\\\\n",
       "\\end{aligned}\n",
       "\\]"
      ],
      "text/plain": [
       "<IPython.core.display.Latex object>"
      ]
     },
     "metadata": {},
     "output_type": "display_data"
    }
   ],
   "source": [
    "%%render \n",
    "#long\n",
    "\n",
    "c = ((4.6*10**(-4))/9.81)*(mm**2)/N # constante do aço transformada para de kgf para N\n",
    "\n",
    "Rlinha_1_1 = Raio_1*(1+((c*Forca_ideal_1)/(b_m*Delta_h_1)))"
   ]
  },
  {
   "cell_type": "code",
   "execution_count": 21,
   "metadata": {},
   "outputs": [
    {
     "data": {
      "text/latex": [
       "\\[\n",
       "\\begin{aligned}\n",
       "Curva_{empírica} &= \\mu \\cdot \\sqrt{ \\frac{ Rlinha_{1_{1}} }{ h_{1} } } \\\\&= 0.08 \\cdot \\sqrt{ \\frac{ 183.021\\ \\text{mm} }{ 2.639\\ \\text{mm} } } \\\\&= 0.666\\\\\n",
       "\\\\[10pt]\n",
       "\\epsilon &= \\frac{ \\Delta_{h_{1}} }{ h_{i} } \\\\&= \\frac{ 861.184\\ \\text{μm} }{ 3.500\\ \\text{mm} } \\\\&= 0.246\\\\\n",
       "\\end{aligned}\n",
       "\\]"
      ],
      "text/plain": [
       "<IPython.core.display.Latex object>"
      ]
     },
     "metadata": {},
     "output_type": "display_data"
    }
   ],
   "source": [
    "%%render\n",
    "#long\n",
    "\n",
    "Curva_empírica = mu * sqrt(Rlinha_1_1/h_1)\n",
    "\n",
    "epsilon = Delta_h_1/h_i"
   ]
  },
  {
   "cell_type": "markdown",
   "metadata": {},
   "source": [
    "Da interesecção da curva empírica com o eixo das absissas $\\epsilon$, retiramos o primeiro fator de correção da forca, $f_1=1.1$."
   ]
  },
  {
   "cell_type": "markdown",
   "metadata": {},
   "source": [
    "O próximo passo é calcular a primeira força corrigida $F_1$:"
   ]
  },
  {
   "cell_type": "code",
   "execution_count": null,
   "metadata": {},
   "outputs": [],
   "source": [
    "%%render\n",
    "#long\n",
    "\n",
    "f_1_1 = 1.1\n",
    "\n",
    "F_1_1 = b_m*sqrt(Rlinha_1_1*Delta_h_1)*1.15*mm*sigma_medio*f_1_1"
   ]
  },
  {
   "cell_type": "markdown",
   "metadata": {},
   "source": [
    "Como a $F_1$ é muito maior que a $Forca_{ideal_1}$, se faz necessária a repetição do processo:"
   ]
  },
  {
   "cell_type": "code",
   "execution_count": null,
   "metadata": {},
   "outputs": [],
   "source": [
    "%%render\n",
    "#long\n",
    "\n",
    "Rlinha_1_2 = Raio_1*(1+((c*F_1_1)/(b_m*Delta_h_1)))"
   ]
  },
  {
   "cell_type": "code",
   "execution_count": null,
   "metadata": {},
   "outputs": [],
   "source": [
    "%%render\n",
    "#long\n",
    "\n",
    "Curva_empírica = mu * sqrt(Rlinha_1_2/h_1)\n",
    "\n",
    "epsilon = Delta_h_1/h_i"
   ]
  },
  {
   "cell_type": "markdown",
   "metadata": {},
   "source": [
    "Os valores foram extremamente parecidos. Provavelmente o resultado irá convergir:"
   ]
  },
  {
   "cell_type": "code",
   "execution_count": null,
   "metadata": {},
   "outputs": [],
   "source": [
    "%%render\n",
    "#long\n",
    "\n",
    "f_1_2 = 1.15\n",
    "\n",
    "F_1_2 = b_m*sqrt(Rlinha_1_2*Delta_h_1)*1.15*mm*sigma_medio*f_1_2"
   ]
  },
  {
   "cell_type": "code",
   "execution_count": null,
   "metadata": {},
   "outputs": [],
   "source": [
    "print('A diferença entre as forças F_2 e F_1 é {:+.3%}, podendo ser considerada baixa o suficiente para parar a iteração.'.format(F_1_2/F_1_1 - 1))"
   ]
  },
  {
   "cell_type": "markdown",
   "metadata": {},
   "source": [
    "O próximo passo consiste na obtenção do outro fator de correção, $f_2$, com as mesmas credenciais só que em outra figura."
   ]
  },
  {
   "cell_type": "markdown",
   "metadata": {},
   "source": [
    "Sabendo que"
   ]
  },
  {
   "cell_type": "code",
   "execution_count": null,
   "metadata": {},
   "outputs": [],
   "source": [
    "%%render\n",
    "#parameters\n",
    "\n",
    "Curva_empírica = mu * sqrt(Rlinha_1_2/h_1)\n",
    "\n",
    "epsilon = Delta_h_1/h_i"
   ]
  },
  {
   "cell_type": "markdown",
   "metadata": {},
   "source": [
    "Obtém-se como $f_2$ o valor de 0.1, e calcula-se o Torque corrigido:"
   ]
  },
  {
   "cell_type": "code",
   "execution_count": null,
   "metadata": {},
   "outputs": [],
   "source": [
    "%%render\n",
    "#long\n",
    "\n",
    "f_1_momento = 0.1\n",
    "\n",
    "Momento_corrigido_1 = 2*Raio_1*(((h_i)**2)/h_1)*sigma_medio*b_m*f_1_momento\n",
    "\n",
    "Potencia_corrigida_1 = Momento_corrigido_1*Rotacao"
   ]
  },
  {
   "cell_type": "markdown",
   "metadata": {},
   "source": [
    "### Segundo Passo\n",
    "\n",
    "Todo o processo é repetido."
   ]
  },
  {
   "cell_type": "code",
   "execution_count": null,
   "metadata": {},
   "outputs": [],
   "source": [
    "%%render\n",
    "#long\n",
    "\n",
    "Rlinha_2_1 = Raio_2*(1+((c*Forca_ideal_2)/(b_m*Delta_h_2)))"
   ]
  },
  {
   "cell_type": "code",
   "execution_count": null,
   "metadata": {},
   "outputs": [],
   "source": [
    "%%render\n",
    "#long\n",
    "\n",
    "Curva_empírica = mu * sqrt(Rlinha_2_1/h_2)\n",
    "\n",
    "epsilon = Delta_h_2/h_1 #este cálculo representa o quanto variou em relação ao comprimento inicial!"
   ]
  },
  {
   "cell_type": "markdown",
   "metadata": {},
   "source": [
    "Novamente, $f$ é obtido como $1.1$:"
   ]
  },
  {
   "cell_type": "code",
   "execution_count": null,
   "metadata": {},
   "outputs": [],
   "source": [
    "%%render\n",
    "#long\n",
    "\n",
    "f_2_1 = 1.1\n",
    "\n",
    "#rlinha1 é relacionado ao passe, deltah2 é relacionado ao exercício inteiro\n",
    "#ou seja, o primeiro cálculo desse passe sempre vai apresentar rlinha1,\n",
    "#e, caso esse passo seja o segundo, o delta sempre vai ser o 2.\n",
    "\n",
    "F_2_1 = b_m*sqrt(Rlinha_2_1*Delta_h_2)*1.15*mm*sigma_medio*f_2_1"
   ]
  },
  {
   "cell_type": "code",
   "execution_count": null,
   "metadata": {},
   "outputs": [],
   "source": [
    "%%render\n",
    "#long\n",
    "\n",
    "Rlinha_2_2 = Raio_2*(1+((c*F_2_1)/(b_m*Delta_h_2)))"
   ]
  },
  {
   "cell_type": "code",
   "execution_count": null,
   "metadata": {},
   "outputs": [],
   "source": [
    "%%render\n",
    "#long\n",
    "\n",
    "Curva_empírica = mu * sqrt(Rlinha_2_2/h_2)\n",
    "\n",
    "epsilon = Delta_h_2/h_1"
   ]
  },
  {
   "cell_type": "code",
   "execution_count": null,
   "metadata": {},
   "outputs": [],
   "source": [
    "%%render\n",
    "#Long\n",
    "\n",
    "f_2_2 = 1.15 #retirado do gráfico\n",
    "\n",
    "F_2_2 = b_m*sqrt(Rlinha_2_2*Delta_h_2)*1.15*mm*sigma_medio*f_2_2"
   ]
  },
  {
   "cell_type": "code",
   "execution_count": null,
   "metadata": {},
   "outputs": [],
   "source": [
    "%%render\n",
    "#Long\n",
    "\n",
    "f_2_momento = 0.09\n",
    "\n",
    "Momento_corrigido_2 = 2*Raio_2*(((h_1)**2)/(h_2))*sigma_medio*b_m*f_2_momento\n",
    "\n",
    "Potencia_corrigida_2 = Momento_corrigido_2 * Rotacao"
   ]
  },
  {
   "cell_type": "markdown",
   "metadata": {},
   "source": [
    "### Terceiro passo"
   ]
  },
  {
   "cell_type": "code",
   "execution_count": null,
   "metadata": {},
   "outputs": [],
   "source": [
    "%%render\n",
    "#long\n",
    "\n",
    "Rlinha_3_1 = Raio_3*(1+((c*Forca_ideal_3)/(b_m*Delta_h_3)))"
   ]
  },
  {
   "cell_type": "code",
   "execution_count": null,
   "metadata": {},
   "outputs": [],
   "source": [
    "%%render\n",
    "#long\n",
    "\n",
    "Curva_empírica = mu * sqrt(Rlinha_3_1/h_3)\n",
    "\n",
    "epsilon = Delta_h_3/h_2 #este cálculo representa o quanto variou em relação ao comprimento inicial!"
   ]
  },
  {
   "cell_type": "code",
   "execution_count": null,
   "metadata": {},
   "outputs": [],
   "source": [
    "%%render\n",
    "#long\n",
    "\n",
    "f_3_1 = 1.1\n",
    "\n",
    "#rlinha1 é relacionado ao passe, deltah2 é relacionado ao exercício inteiro\n",
    "#ou seja, o primeiro cálculo desse passe sempre vai apresentar rlinha1,\n",
    "#e, caso esse passo seja o segundo, o delta sempre vai ser o 2.\n",
    "\n",
    "F_3_1 = b_m*sqrt(Rlinha_3_1*Delta_h_3)*1.15*mm*sigma_medio*f_3_1"
   ]
  },
  {
   "cell_type": "code",
   "execution_count": null,
   "metadata": {},
   "outputs": [],
   "source": [
    "%%render\n",
    "#long\n",
    "\n",
    "Rlinha_3_2 = Raio_3*(1+((c*F_3_1)/(b_m*Delta_h_3)))"
   ]
  },
  {
   "cell_type": "code",
   "execution_count": null,
   "metadata": {},
   "outputs": [],
   "source": [
    "%%render\n",
    "#long\n",
    "\n",
    "Curva_empírica = mu * sqrt(Rlinha_3_2/h_3)\n",
    "\n",
    "epsilon = Delta_h_3/h_2 #este cálculo representa o quanto variou em relação ao comprimento inicial!"
   ]
  },
  {
   "cell_type": "code",
   "execution_count": null,
   "metadata": {},
   "outputs": [],
   "source": [
    "%%render\n",
    "#long\n",
    "\n",
    "f_3_2 = 1.1\n",
    "\n",
    "#rlinha1 é relacionado ao passe, deltah2 é relacionado ao exercício inteiro\n",
    "#ou seja, o primeiro cálculo desse passe sempre vai apresentar rlinha1,\n",
    "#e, caso esse passo seja o segundo, o delta sempre vai ser o 2.\n",
    "\n",
    "F_3_2 = b_m*sqrt(Rlinha_3_2*Delta_h_3)*1.15*mm*sigma_medio*f_3_2"
   ]
  },
  {
   "cell_type": "code",
   "execution_count": null,
   "metadata": {},
   "outputs": [],
   "source": [
    "%%render\n",
    "#long\n",
    "\n",
    "f_3_momento = 0.09\n",
    "\n",
    "Momento_corrigido_3 = 2*Raio_3*(((h_2)**2)/(h_3))*sigma_medio*b_m*f_3_momento\n",
    "\n",
    "Potencia_corrigida_3 = Momento_corrigido_3 * Rotacao\n"
   ]
  },
  {
   "cell_type": "code",
   "execution_count": null,
   "metadata": {},
   "outputs": [],
   "source": [
    "import pandas as pd\n",
    "\n",
    "resultados = pd.DataFrame(index=['Força','Momento','Potência'])\n",
    "\n",
    "resultados.style.set_caption(\"Comparação Ideal x Real das Grandezas\")\n",
    "\n",
    "resultados['Etapa 1'] = [(Forca_ideal_1, F_1_2),(Momento_ideal_1, Momento_corrigido_1),(Potencia_ideal_1, Potencia_corrigida_1)]\n",
    "resultados['Etapa 2'] = [(Forca_ideal_2, F_2_2),(Momento_ideal_2, Momento_corrigido_2),(Potencia_ideal_2, Potencia_corrigida_2)]\n",
    "resultados['Etapa 3'] = [(Forca_ideal_3, F_3_2),(Momento_ideal_3, Momento_corrigido_3),(Potencia_ideal_3, Potencia_corrigida_3)]\n",
    "\n",
    "\n",
    "resultados"
   ]
  },
  {
   "cell_type": "code",
   "execution_count": null,
   "metadata": {},
   "outputs": [],
   "source": []
  }
 ],
 "metadata": {
  "kernelspec": {
   "display_name": "Python 3",
   "language": "python",
   "name": "python3"
  },
  "language_info": {
   "codemirror_mode": {
    "name": "ipython",
    "version": 3
   },
   "file_extension": ".py",
   "mimetype": "text/x-python",
   "name": "python",
   "nbconvert_exporter": "python",
   "pygments_lexer": "ipython3",
   "version": "3.8.5"
  }
 },
 "nbformat": 4,
 "nbformat_minor": 4
}
